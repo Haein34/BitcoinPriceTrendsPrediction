{
 "cells": [
  {
   "cell_type": "markdown",
   "metadata": {},
   "source": [
    "# For train, validation data"
   ]
  },
  {
   "cell_type": "code",
   "execution_count": 28,
   "metadata": {
    "executionInfo": {
     "elapsed": 926,
     "status": "ok",
     "timestamp": 1641357608214,
     "user": {
      "displayName": "성균관대학교이해인",
      "photoUrl": "https://lh3.googleusercontent.com/a/default-user=s64",
      "userId": "18353716469576030948"
     },
     "user_tz": -540
    },
    "id": "Si36AfexOoKl"
   },
   "outputs": [],
   "source": [
    "import os\n",
    "\n",
    "import pandas as pd\n",
    "import numpy as np\n",
    "\n",
    "from sklearn.feature_extraction.text import CountVectorizer\n",
    "from sklearn.model_selection import train_test_split\n",
    "\n",
    "import sklearn\n",
    "from sklearn.utils import shuffle\n",
    "from sklearn.metrics import accuracy_score\n",
    "from sklearn import metrics\n",
    "import seaborn as sns\n",
    "import matplotlib.pyplot as plt\n",
    "%matplotlib inline"
   ]
  },
  {
   "cell_type": "code",
   "execution_count": 29,
   "metadata": {},
   "outputs": [],
   "source": [
    "x_train = pd.read_csv('C:/Users/DSSAL/Downloads/Fintech_Bitcoin/220401_meeting_ver/DATA_Bitcoin_ML/x_train_220819.csv', index_col = 0)"
   ]
  },
  {
   "cell_type": "code",
   "execution_count": 30,
   "metadata": {},
   "outputs": [],
   "source": [
    "y_train = pd.read_csv('C:/Users/DSSAL/Downloads/Fintech_Bitcoin/220401_meeting_ver/DATA_Bitcoin_ML/y_train_220819.csv',index_col=0)"
   ]
  },
  {
   "cell_type": "markdown",
   "metadata": {},
   "source": [
    "# For test data"
   ]
  },
  {
   "cell_type": "code",
   "execution_count": 31,
   "metadata": {},
   "outputs": [
    {
     "data": {
      "text/html": [
       "<div>\n",
       "<style scoped>\n",
       "    .dataframe tbody tr th:only-of-type {\n",
       "        vertical-align: middle;\n",
       "    }\n",
       "\n",
       "    .dataframe tbody tr th {\n",
       "        vertical-align: top;\n",
       "    }\n",
       "\n",
       "    .dataframe thead th {\n",
       "        text-align: right;\n",
       "    }\n",
       "</style>\n",
       "<table border=\"1\" class=\"dataframe\">\n",
       "  <thead>\n",
       "    <tr style=\"text-align: right;\">\n",
       "      <th></th>\n",
       "      <th>Volume_total</th>\n",
       "      <th>sentiment_index_total</th>\n",
       "      <th>High</th>\n",
       "      <th>Low</th>\n",
       "      <th>Vol</th>\n",
       "      <th>RSI</th>\n",
       "      <th>SMA_5</th>\n",
       "      <th>SMA_20</th>\n",
       "      <th>SMA_60</th>\n",
       "      <th>EMA</th>\n",
       "      <th>MACD</th>\n",
       "      <th>signal</th>\n",
       "      <th>Stochastic RSI_fastk</th>\n",
       "      <th>Stochastic RSI_fastd</th>\n",
       "      <th>Stochastic Oscillator Index_slowk</th>\n",
       "      <th>Stochastic Oscillator Index_slowd</th>\n",
       "      <th>Fluctuations</th>\n",
       "    </tr>\n",
       "  </thead>\n",
       "  <tbody>\n",
       "    <tr>\n",
       "      <th>0</th>\n",
       "      <td>0.545000</td>\n",
       "      <td>0.195338</td>\n",
       "      <td>0.959518</td>\n",
       "      <td>0.980993</td>\n",
       "      <td>0.002937</td>\n",
       "      <td>0.597561</td>\n",
       "      <td>0.991824</td>\n",
       "      <td>1.001365</td>\n",
       "      <td>1.009106</td>\n",
       "      <td>1.007050</td>\n",
       "      <td>0.436198</td>\n",
       "      <td>0.466803</td>\n",
       "      <td>0.972114</td>\n",
       "      <td>0.989451</td>\n",
       "      <td>0.858229</td>\n",
       "      <td>0.901095</td>\n",
       "      <td>0</td>\n",
       "    </tr>\n",
       "    <tr>\n",
       "      <th>1</th>\n",
       "      <td>0.585140</td>\n",
       "      <td>0.239189</td>\n",
       "      <td>0.971860</td>\n",
       "      <td>0.988536</td>\n",
       "      <td>0.003102</td>\n",
       "      <td>0.604627</td>\n",
       "      <td>1.003399</td>\n",
       "      <td>0.999281</td>\n",
       "      <td>1.018160</td>\n",
       "      <td>1.013699</td>\n",
       "      <td>0.445752</td>\n",
       "      <td>0.470496</td>\n",
       "      <td>1.000000</td>\n",
       "      <td>0.989451</td>\n",
       "      <td>0.803497</td>\n",
       "      <td>0.871422</td>\n",
       "      <td>1</td>\n",
       "    </tr>\n",
       "    <tr>\n",
       "      <th>2</th>\n",
       "      <td>0.537338</td>\n",
       "      <td>0.261605</td>\n",
       "      <td>0.965686</td>\n",
       "      <td>0.960906</td>\n",
       "      <td>0.002922</td>\n",
       "      <td>0.527532</td>\n",
       "      <td>1.001395</td>\n",
       "      <td>0.997352</td>\n",
       "      <td>1.025831</td>\n",
       "      <td>1.012624</td>\n",
       "      <td>0.427793</td>\n",
       "      <td>0.469277</td>\n",
       "      <td>0.000000</td>\n",
       "      <td>0.657371</td>\n",
       "      <td>0.519993</td>\n",
       "      <td>0.739452</td>\n",
       "      <td>0</td>\n",
       "    </tr>\n",
       "    <tr>\n",
       "      <th>3</th>\n",
       "      <td>0.498165</td>\n",
       "      <td>0.284602</td>\n",
       "      <td>0.943563</td>\n",
       "      <td>0.953181</td>\n",
       "      <td>0.002353</td>\n",
       "      <td>0.562177</td>\n",
       "      <td>0.999335</td>\n",
       "      <td>0.999615</td>\n",
       "      <td>1.033139</td>\n",
       "      <td>1.015618</td>\n",
       "      <td>0.424889</td>\n",
       "      <td>0.467627</td>\n",
       "      <td>0.449382</td>\n",
       "      <td>0.483127</td>\n",
       "      <td>0.404208</td>\n",
       "      <td>0.581804</td>\n",
       "      <td>1</td>\n",
       "    </tr>\n",
       "    <tr>\n",
       "      <th>4</th>\n",
       "      <td>0.521225</td>\n",
       "      <td>0.240861</td>\n",
       "      <td>0.956106</td>\n",
       "      <td>0.959773</td>\n",
       "      <td>0.002201</td>\n",
       "      <td>0.585381</td>\n",
       "      <td>1.000163</td>\n",
       "      <td>1.001591</td>\n",
       "      <td>1.040965</td>\n",
       "      <td>1.020763</td>\n",
       "      <td>0.429689</td>\n",
       "      <td>0.467423</td>\n",
       "      <td>0.750362</td>\n",
       "      <td>0.399915</td>\n",
       "      <td>0.371906</td>\n",
       "      <td>0.431945</td>\n",
       "      <td>1</td>\n",
       "    </tr>\n",
       "    <tr>\n",
       "      <th>...</th>\n",
       "      <td>...</td>\n",
       "      <td>...</td>\n",
       "      <td>...</td>\n",
       "      <td>...</td>\n",
       "      <td>...</td>\n",
       "      <td>...</td>\n",
       "      <td>...</td>\n",
       "      <td>...</td>\n",
       "      <td>...</td>\n",
       "      <td>...</td>\n",
       "      <td>...</td>\n",
       "      <td>...</td>\n",
       "      <td>...</td>\n",
       "      <td>...</td>\n",
       "      <td>...</td>\n",
       "      <td>...</td>\n",
       "      <td>...</td>\n",
       "    </tr>\n",
       "    <tr>\n",
       "      <th>324</th>\n",
       "      <td>0.604923</td>\n",
       "      <td>-0.000763</td>\n",
       "      <td>0.619732</td>\n",
       "      <td>0.561479</td>\n",
       "      <td>0.008440</td>\n",
       "      <td>0.385186</td>\n",
       "      <td>0.629822</td>\n",
       "      <td>0.711181</td>\n",
       "      <td>0.809156</td>\n",
       "      <td>0.674852</td>\n",
       "      <td>0.091733</td>\n",
       "      <td>0.163752</td>\n",
       "      <td>1.000000</td>\n",
       "      <td>0.632657</td>\n",
       "      <td>0.406729</td>\n",
       "      <td>0.215167</td>\n",
       "      <td>1</td>\n",
       "    </tr>\n",
       "    <tr>\n",
       "      <th>325</th>\n",
       "      <td>0.362027</td>\n",
       "      <td>0.097440</td>\n",
       "      <td>0.625358</td>\n",
       "      <td>0.626757</td>\n",
       "      <td>0.003665</td>\n",
       "      <td>0.426774</td>\n",
       "      <td>0.632902</td>\n",
       "      <td>0.709112</td>\n",
       "      <td>0.805078</td>\n",
       "      <td>0.674742</td>\n",
       "      <td>0.097517</td>\n",
       "      <td>0.147132</td>\n",
       "      <td>1.000000</td>\n",
       "      <td>0.763958</td>\n",
       "      <td>0.591088</td>\n",
       "      <td>0.384335</td>\n",
       "      <td>1</td>\n",
       "    </tr>\n",
       "    <tr>\n",
       "      <th>326</th>\n",
       "      <td>0.327240</td>\n",
       "      <td>0.149952</td>\n",
       "      <td>0.632318</td>\n",
       "      <td>0.637323</td>\n",
       "      <td>0.001580</td>\n",
       "      <td>0.422939</td>\n",
       "      <td>0.640462</td>\n",
       "      <td>0.706033</td>\n",
       "      <td>0.802081</td>\n",
       "      <td>0.674333</td>\n",
       "      <td>0.102285</td>\n",
       "      <td>0.134943</td>\n",
       "      <td>0.961115</td>\n",
       "      <td>0.987038</td>\n",
       "      <td>0.819918</td>\n",
       "      <td>0.613067</td>\n",
       "      <td>0</td>\n",
       "    </tr>\n",
       "    <tr>\n",
       "      <th>327</th>\n",
       "      <td>0.375777</td>\n",
       "      <td>0.093268</td>\n",
       "      <td>0.627981</td>\n",
       "      <td>0.609392</td>\n",
       "      <td>0.002794</td>\n",
       "      <td>0.367167</td>\n",
       "      <td>0.638447</td>\n",
       "      <td>0.700260</td>\n",
       "      <td>0.798961</td>\n",
       "      <td>0.669151</td>\n",
       "      <td>0.090336</td>\n",
       "      <td>0.122416</td>\n",
       "      <td>0.395550</td>\n",
       "      <td>0.785555</td>\n",
       "      <td>0.779561</td>\n",
       "      <td>0.742524</td>\n",
       "      <td>0</td>\n",
       "    </tr>\n",
       "    <tr>\n",
       "      <th>328</th>\n",
       "      <td>0.412819</td>\n",
       "      <td>0.061551</td>\n",
       "      <td>0.698113</td>\n",
       "      <td>0.616418</td>\n",
       "      <td>0.004865</td>\n",
       "      <td>0.577523</td>\n",
       "      <td>0.659938</td>\n",
       "      <td>0.699462</td>\n",
       "      <td>0.797562</td>\n",
       "      <td>0.683595</td>\n",
       "      <td>0.147896</td>\n",
       "      <td>0.125770</td>\n",
       "      <td>1.000000</td>\n",
       "      <td>0.785555</td>\n",
       "      <td>0.782100</td>\n",
       "      <td>0.808848</td>\n",
       "      <td>1</td>\n",
       "    </tr>\n",
       "  </tbody>\n",
       "</table>\n",
       "<p>329 rows × 17 columns</p>\n",
       "</div>"
      ],
      "text/plain": [
       "     Volume_total  sentiment_index_total      High       Low       Vol  \\\n",
       "0        0.545000               0.195338  0.959518  0.980993  0.002937   \n",
       "1        0.585140               0.239189  0.971860  0.988536  0.003102   \n",
       "2        0.537338               0.261605  0.965686  0.960906  0.002922   \n",
       "3        0.498165               0.284602  0.943563  0.953181  0.002353   \n",
       "4        0.521225               0.240861  0.956106  0.959773  0.002201   \n",
       "..            ...                    ...       ...       ...       ...   \n",
       "324      0.604923              -0.000763  0.619732  0.561479  0.008440   \n",
       "325      0.362027               0.097440  0.625358  0.626757  0.003665   \n",
       "326      0.327240               0.149952  0.632318  0.637323  0.001580   \n",
       "327      0.375777               0.093268  0.627981  0.609392  0.002794   \n",
       "328      0.412819               0.061551  0.698113  0.616418  0.004865   \n",
       "\n",
       "          RSI     SMA_5    SMA_20    SMA_60       EMA      MACD    signal  \\\n",
       "0    0.597561  0.991824  1.001365  1.009106  1.007050  0.436198  0.466803   \n",
       "1    0.604627  1.003399  0.999281  1.018160  1.013699  0.445752  0.470496   \n",
       "2    0.527532  1.001395  0.997352  1.025831  1.012624  0.427793  0.469277   \n",
       "3    0.562177  0.999335  0.999615  1.033139  1.015618  0.424889  0.467627   \n",
       "4    0.585381  1.000163  1.001591  1.040965  1.020763  0.429689  0.467423   \n",
       "..        ...       ...       ...       ...       ...       ...       ...   \n",
       "324  0.385186  0.629822  0.711181  0.809156  0.674852  0.091733  0.163752   \n",
       "325  0.426774  0.632902  0.709112  0.805078  0.674742  0.097517  0.147132   \n",
       "326  0.422939  0.640462  0.706033  0.802081  0.674333  0.102285  0.134943   \n",
       "327  0.367167  0.638447  0.700260  0.798961  0.669151  0.090336  0.122416   \n",
       "328  0.577523  0.659938  0.699462  0.797562  0.683595  0.147896  0.125770   \n",
       "\n",
       "     Stochastic RSI_fastk  Stochastic RSI_fastd  \\\n",
       "0                0.972114              0.989451   \n",
       "1                1.000000              0.989451   \n",
       "2                0.000000              0.657371   \n",
       "3                0.449382              0.483127   \n",
       "4                0.750362              0.399915   \n",
       "..                    ...                   ...   \n",
       "324              1.000000              0.632657   \n",
       "325              1.000000              0.763958   \n",
       "326              0.961115              0.987038   \n",
       "327              0.395550              0.785555   \n",
       "328              1.000000              0.785555   \n",
       "\n",
       "     Stochastic Oscillator Index_slowk  Stochastic Oscillator Index_slowd  \\\n",
       "0                             0.858229                           0.901095   \n",
       "1                             0.803497                           0.871422   \n",
       "2                             0.519993                           0.739452   \n",
       "3                             0.404208                           0.581804   \n",
       "4                             0.371906                           0.431945   \n",
       "..                                 ...                                ...   \n",
       "324                           0.406729                           0.215167   \n",
       "325                           0.591088                           0.384335   \n",
       "326                           0.819918                           0.613067   \n",
       "327                           0.779561                           0.742524   \n",
       "328                           0.782100                           0.808848   \n",
       "\n",
       "     Fluctuations  \n",
       "0               0  \n",
       "1               1  \n",
       "2               0  \n",
       "3               1  \n",
       "4               1  \n",
       "..            ...  \n",
       "324             1  \n",
       "325             1  \n",
       "326             0  \n",
       "327             0  \n",
       "328             1  \n",
       "\n",
       "[329 rows x 17 columns]"
      ]
     },
     "execution_count": 31,
     "metadata": {},
     "output_type": "execute_result"
    }
   ],
   "source": [
    "#scale까지 완료한 test data load\n",
    "test_data_scale = pd.read_csv('C:/Users/DSSAL/Downloads/Fintech_Bitcoin/220401_meeting_ver/DATA_Bitcoin_ML/testdata_220819.csv',index_col = 0)\n",
    "test_data_scale"
   ]
  },
  {
   "cell_type": "code",
   "execution_count": 32,
   "metadata": {},
   "outputs": [],
   "source": [
    "features = test_data_scale[['Volume_total','sentiment_index_total','High','Low','Vol',\n",
    "                        'RSI','SMA_5','SMA_20','SMA_60','EMA','MACD','signal','Stochastic RSI_fastk',\n",
    "                        'Stochastic RSI_fastd','Stochastic Oscillator Index_slowk','Stochastic Oscillator Index_slowd',]]\n",
    "label= list(test_data_scale['Fluctuations'])"
   ]
  },
  {
   "cell_type": "code",
   "execution_count": 33,
   "metadata": {},
   "outputs": [],
   "source": [
    "x_test = features\n",
    "y_test = np.array(label)"
   ]
  },
  {
   "cell_type": "markdown",
   "metadata": {},
   "source": [
    "# LR modeling"
   ]
  },
  {
   "cell_type": "code",
   "execution_count": 34,
   "metadata": {
    "colab": {
     "base_uri": "https://localhost:8080/",
     "height": 382
    },
    "executionInfo": {
     "elapsed": 566273,
     "status": "error",
     "timestamp": 1641359081506,
     "user": {
      "displayName": "성균관대학교이해인",
      "photoUrl": "https://lh3.googleusercontent.com/a/default-user=s64",
      "userId": "18353716469576030948"
     },
     "user_tz": -540
    },
    "id": "kfAqs7rkPXAQ",
    "outputId": "d4b295a4-2319-4da6-f491-4b585afd18df"
   },
   "outputs": [
    {
     "name": "stdout",
     "output_type": "stream",
     "text": [
      "Fitting 5 folds for each of 12 candidates, totalling 60 fits\n",
      "[CV 1/5] END .................C=0.001, penalty=l1;, score=nan total time=   0.0s\n",
      "[CV 2/5] END .................C=0.001, penalty=l1;, score=nan total time=   0.0s\n",
      "[CV 3/5] END .................C=0.001, penalty=l1;, score=nan total time=   0.0s\n",
      "[CV 4/5] END .................C=0.001, penalty=l1;, score=nan total time=   0.0s\n",
      "[CV 5/5] END .................C=0.001, penalty=l1;, score=nan total time=   0.0s\n",
      "[CV 1/5] END ...............C=0.001, penalty=l2;, score=0.534 total time=   0.0s\n",
      "[CV 2/5] END ...............C=0.001, penalty=l2;, score=0.532 total time=   0.0s\n",
      "[CV 3/5] END ...............C=0.001, penalty=l2;, score=0.532 total time=   0.0s\n",
      "[CV 4/5] END ...............C=0.001, penalty=l2;, score=0.532 total time=   0.0s\n",
      "[CV 5/5] END ...............C=0.001, penalty=l2;, score=0.532 total time=   0.0s\n",
      "[CV 1/5] END ..................C=0.01, penalty=l1;, score=nan total time=   0.0s\n",
      "[CV 2/5] END ..................C=0.01, penalty=l1;, score=nan total time=   0.0s\n",
      "[CV 3/5] END ..................C=0.01, penalty=l1;, score=nan total time=   0.0s\n",
      "[CV 4/5] END ..................C=0.01, penalty=l1;, score=nan total time=   0.0s\n",
      "[CV 5/5] END ..................C=0.01, penalty=l1;, score=nan total time=   0.0s\n",
      "[CV 1/5] END ................C=0.01, penalty=l2;, score=0.708 total time=   0.0s\n",
      "[CV 2/5] END ................C=0.01, penalty=l2;, score=0.665 total time=   0.0s\n",
      "[CV 3/5] END ................C=0.01, penalty=l2;, score=0.711 total time=   0.0s\n",
      "[CV 4/5] END ................C=0.01, penalty=l2;, score=0.715 total time=   0.0s\n",
      "[CV 5/5] END ................C=0.01, penalty=l2;, score=0.745 total time=   0.0s\n",
      "[CV 1/5] END ...................C=0.1, penalty=l1;, score=nan total time=   0.0s\n",
      "[CV 2/5] END ...................C=0.1, penalty=l1;, score=nan total time=   0.0s\n",
      "[CV 3/5] END ...................C=0.1, penalty=l1;, score=nan total time=   0.0s\n",
      "[CV 4/5] END ...................C=0.1, penalty=l1;, score=nan total time=   0.0s\n",
      "[CV 5/5] END ...................C=0.1, penalty=l1;, score=nan total time=   0.0s\n",
      "[CV 1/5] END .................C=0.1, penalty=l2;, score=0.746 total time=   0.0s\n",
      "[CV 2/5] END .................C=0.1, penalty=l2;, score=0.719 total time=   0.0s\n",
      "[CV 3/5] END .................C=0.1, penalty=l2;, score=0.734 total time=   0.0s\n",
      "[CV 4/5] END .................C=0.1, penalty=l2;, score=0.749 total time=   0.0s\n",
      "[CV 5/5] END .................C=0.1, penalty=l2;, score=0.783 total time=   0.0s\n",
      "[CV 1/5] END .....................C=1, penalty=l1;, score=nan total time=   0.0s\n",
      "[CV 2/5] END .....................C=1, penalty=l1;, score=nan total time=   0.0s\n",
      "[CV 3/5] END .....................C=1, penalty=l1;, score=nan total time=   0.0s\n",
      "[CV 4/5] END .....................C=1, penalty=l1;, score=nan total time=   0.0s\n",
      "[CV 5/5] END .....................C=1, penalty=l1;, score=nan total time=   0.0s\n",
      "[CV 1/5] END ...................C=1, penalty=l2;, score=0.807 total time=   0.0s\n",
      "[CV 2/5] END ...................C=1, penalty=l2;, score=0.791 total time=   0.0s\n",
      "[CV 3/5] END ...................C=1, penalty=l2;, score=0.810 total time=   0.0s\n",
      "[CV 4/5] END ...................C=1, penalty=l2;, score=0.810 total time=   0.0s\n",
      "[CV 5/5] END ...................C=1, penalty=l2;, score=0.844 total time=   0.0s\n",
      "[CV 1/5] END ....................C=10, penalty=l1;, score=nan total time=   0.0s\n",
      "[CV 2/5] END ....................C=10, penalty=l1;, score=nan total time=   0.0s\n",
      "[CV 3/5] END ....................C=10, penalty=l1;, score=nan total time=   0.0s\n",
      "[CV 4/5] END ....................C=10, penalty=l1;, score=nan total time=   0.0s\n",
      "[CV 5/5] END ....................C=10, penalty=l1;, score=nan total time=   0.0s\n",
      "[CV 1/5] END ..................C=10, penalty=l2;, score=0.811 total time=   0.0s\n"
     ]
    },
    {
     "name": "stderr",
     "output_type": "stream",
     "text": [
      "C:\\Users\\DSSAL\\Anaconda3\\lib\\site-packages\\sklearn\\utils\\validation.py:993: DataConversionWarning: A column-vector y was passed when a 1d array was expected. Please change the shape of y to (n_samples, ), for example using ravel().\n",
      "  y = column_or_1d(y, warn=True)\n",
      "C:\\Users\\DSSAL\\Anaconda3\\lib\\site-packages\\sklearn\\utils\\validation.py:993: DataConversionWarning: A column-vector y was passed when a 1d array was expected. Please change the shape of y to (n_samples, ), for example using ravel().\n",
      "  y = column_or_1d(y, warn=True)\n",
      "C:\\Users\\DSSAL\\Anaconda3\\lib\\site-packages\\sklearn\\utils\\validation.py:993: DataConversionWarning: A column-vector y was passed when a 1d array was expected. Please change the shape of y to (n_samples, ), for example using ravel().\n",
      "  y = column_or_1d(y, warn=True)\n",
      "C:\\Users\\DSSAL\\Anaconda3\\lib\\site-packages\\sklearn\\utils\\validation.py:993: DataConversionWarning: A column-vector y was passed when a 1d array was expected. Please change the shape of y to (n_samples, ), for example using ravel().\n",
      "  y = column_or_1d(y, warn=True)\n",
      "C:\\Users\\DSSAL\\Anaconda3\\lib\\site-packages\\sklearn\\utils\\validation.py:993: DataConversionWarning: A column-vector y was passed when a 1d array was expected. Please change the shape of y to (n_samples, ), for example using ravel().\n",
      "  y = column_or_1d(y, warn=True)\n",
      "C:\\Users\\DSSAL\\Anaconda3\\lib\\site-packages\\sklearn\\utils\\validation.py:993: DataConversionWarning: A column-vector y was passed when a 1d array was expected. Please change the shape of y to (n_samples, ), for example using ravel().\n",
      "  y = column_or_1d(y, warn=True)\n",
      "C:\\Users\\DSSAL\\Anaconda3\\lib\\site-packages\\sklearn\\utils\\validation.py:993: DataConversionWarning: A column-vector y was passed when a 1d array was expected. Please change the shape of y to (n_samples, ), for example using ravel().\n",
      "  y = column_or_1d(y, warn=True)\n",
      "C:\\Users\\DSSAL\\Anaconda3\\lib\\site-packages\\sklearn\\utils\\validation.py:993: DataConversionWarning: A column-vector y was passed when a 1d array was expected. Please change the shape of y to (n_samples, ), for example using ravel().\n",
      "  y = column_or_1d(y, warn=True)\n",
      "C:\\Users\\DSSAL\\Anaconda3\\lib\\site-packages\\sklearn\\utils\\validation.py:993: DataConversionWarning: A column-vector y was passed when a 1d array was expected. Please change the shape of y to (n_samples, ), for example using ravel().\n",
      "  y = column_or_1d(y, warn=True)\n",
      "C:\\Users\\DSSAL\\Anaconda3\\lib\\site-packages\\sklearn\\utils\\validation.py:993: DataConversionWarning: A column-vector y was passed when a 1d array was expected. Please change the shape of y to (n_samples, ), for example using ravel().\n",
      "  y = column_or_1d(y, warn=True)\n",
      "C:\\Users\\DSSAL\\Anaconda3\\lib\\site-packages\\sklearn\\utils\\validation.py:993: DataConversionWarning: A column-vector y was passed when a 1d array was expected. Please change the shape of y to (n_samples, ), for example using ravel().\n",
      "  y = column_or_1d(y, warn=True)\n",
      "C:\\Users\\DSSAL\\Anaconda3\\lib\\site-packages\\sklearn\\utils\\validation.py:993: DataConversionWarning: A column-vector y was passed when a 1d array was expected. Please change the shape of y to (n_samples, ), for example using ravel().\n",
      "  y = column_or_1d(y, warn=True)\n",
      "C:\\Users\\DSSAL\\Anaconda3\\lib\\site-packages\\sklearn\\utils\\validation.py:993: DataConversionWarning: A column-vector y was passed when a 1d array was expected. Please change the shape of y to (n_samples, ), for example using ravel().\n",
      "  y = column_or_1d(y, warn=True)\n",
      "C:\\Users\\DSSAL\\Anaconda3\\lib\\site-packages\\sklearn\\utils\\validation.py:993: DataConversionWarning: A column-vector y was passed when a 1d array was expected. Please change the shape of y to (n_samples, ), for example using ravel().\n",
      "  y = column_or_1d(y, warn=True)\n",
      "C:\\Users\\DSSAL\\Anaconda3\\lib\\site-packages\\sklearn\\utils\\validation.py:993: DataConversionWarning: A column-vector y was passed when a 1d array was expected. Please change the shape of y to (n_samples, ), for example using ravel().\n",
      "  y = column_or_1d(y, warn=True)\n",
      "C:\\Users\\DSSAL\\Anaconda3\\lib\\site-packages\\sklearn\\utils\\validation.py:993: DataConversionWarning: A column-vector y was passed when a 1d array was expected. Please change the shape of y to (n_samples, ), for example using ravel().\n",
      "  y = column_or_1d(y, warn=True)\n",
      "C:\\Users\\DSSAL\\Anaconda3\\lib\\site-packages\\sklearn\\utils\\validation.py:993: DataConversionWarning: A column-vector y was passed when a 1d array was expected. Please change the shape of y to (n_samples, ), for example using ravel().\n",
      "  y = column_or_1d(y, warn=True)\n",
      "C:\\Users\\DSSAL\\Anaconda3\\lib\\site-packages\\sklearn\\utils\\validation.py:993: DataConversionWarning: A column-vector y was passed when a 1d array was expected. Please change the shape of y to (n_samples, ), for example using ravel().\n",
      "  y = column_or_1d(y, warn=True)\n",
      "C:\\Users\\DSSAL\\Anaconda3\\lib\\site-packages\\sklearn\\utils\\validation.py:993: DataConversionWarning: A column-vector y was passed when a 1d array was expected. Please change the shape of y to (n_samples, ), for example using ravel().\n",
      "  y = column_or_1d(y, warn=True)\n",
      "C:\\Users\\DSSAL\\Anaconda3\\lib\\site-packages\\sklearn\\utils\\validation.py:993: DataConversionWarning: A column-vector y was passed when a 1d array was expected. Please change the shape of y to (n_samples, ), for example using ravel().\n",
      "  y = column_or_1d(y, warn=True)\n",
      "C:\\Users\\DSSAL\\Anaconda3\\lib\\site-packages\\sklearn\\utils\\validation.py:993: DataConversionWarning: A column-vector y was passed when a 1d array was expected. Please change the shape of y to (n_samples, ), for example using ravel().\n",
      "  y = column_or_1d(y, warn=True)\n",
      "C:\\Users\\DSSAL\\Anaconda3\\lib\\site-packages\\sklearn\\utils\\validation.py:993: DataConversionWarning: A column-vector y was passed when a 1d array was expected. Please change the shape of y to (n_samples, ), for example using ravel().\n",
      "  y = column_or_1d(y, warn=True)\n"
     ]
    },
    {
     "name": "stdout",
     "output_type": "stream",
     "text": [
      "[CV 2/5] END ..................C=10, penalty=l2;, score=0.817 total time=   0.0s\n",
      "[CV 3/5] END ..................C=10, penalty=l2;, score=0.817 total time=   0.0s\n",
      "[CV 4/5] END ..................C=10, penalty=l2;, score=0.825 total time=   0.0s\n",
      "[CV 5/5] END ..................C=10, penalty=l2;, score=0.840 total time=   0.0s\n",
      "[CV 1/5] END ...................C=100, penalty=l1;, score=nan total time=   0.0s\n",
      "[CV 2/5] END ...................C=100, penalty=l1;, score=nan total time=   0.0s\n",
      "[CV 3/5] END ...................C=100, penalty=l1;, score=nan total time=   0.0s\n",
      "[CV 4/5] END ...................C=100, penalty=l1;, score=nan total time=   0.0s\n",
      "[CV 5/5] END ...................C=100, penalty=l1;, score=nan total time=   0.0s\n",
      "[CV 1/5] END .................C=100, penalty=l2;, score=0.811 total time=   0.0s\n",
      "[CV 2/5] END .................C=100, penalty=l2;, score=0.817 total time=   0.0s\n",
      "[CV 3/5] END .................C=100, penalty=l2;, score=0.806 total time=   0.0s\n",
      "[CV 4/5] END .................C=100, penalty=l2;, score=0.814 total time=   0.0s\n",
      "[CV 5/5] END .................C=100, penalty=l2;, score=0.844 total time=   0.0s\n"
     ]
    },
    {
     "name": "stderr",
     "output_type": "stream",
     "text": [
      "C:\\Users\\DSSAL\\Anaconda3\\lib\\site-packages\\sklearn\\utils\\validation.py:993: DataConversionWarning: A column-vector y was passed when a 1d array was expected. Please change the shape of y to (n_samples, ), for example using ravel().\n",
      "  y = column_or_1d(y, warn=True)\n",
      "C:\\Users\\DSSAL\\Anaconda3\\lib\\site-packages\\sklearn\\utils\\validation.py:993: DataConversionWarning: A column-vector y was passed when a 1d array was expected. Please change the shape of y to (n_samples, ), for example using ravel().\n",
      "  y = column_or_1d(y, warn=True)\n",
      "C:\\Users\\DSSAL\\Anaconda3\\lib\\site-packages\\sklearn\\utils\\validation.py:993: DataConversionWarning: A column-vector y was passed when a 1d array was expected. Please change the shape of y to (n_samples, ), for example using ravel().\n",
      "  y = column_or_1d(y, warn=True)\n",
      "C:\\Users\\DSSAL\\Anaconda3\\lib\\site-packages\\sklearn\\utils\\validation.py:993: DataConversionWarning: A column-vector y was passed when a 1d array was expected. Please change the shape of y to (n_samples, ), for example using ravel().\n",
      "  y = column_or_1d(y, warn=True)\n",
      "C:\\Users\\DSSAL\\Anaconda3\\lib\\site-packages\\sklearn\\linear_model\\_logistic.py:818: ConvergenceWarning: lbfgs failed to converge (status=1):\n",
      "STOP: TOTAL NO. of ITERATIONS REACHED LIMIT.\n",
      "\n",
      "Increase the number of iterations (max_iter) or scale the data as shown in:\n",
      "    https://scikit-learn.org/stable/modules/preprocessing.html\n",
      "Please also refer to the documentation for alternative solver options:\n",
      "    https://scikit-learn.org/stable/modules/linear_model.html#logistic-regression\n",
      "  extra_warning_msg=_LOGISTIC_SOLVER_CONVERGENCE_MSG,\n",
      "C:\\Users\\DSSAL\\Anaconda3\\lib\\site-packages\\sklearn\\utils\\validation.py:993: DataConversionWarning: A column-vector y was passed when a 1d array was expected. Please change the shape of y to (n_samples, ), for example using ravel().\n",
      "  y = column_or_1d(y, warn=True)\n",
      "C:\\Users\\DSSAL\\Anaconda3\\lib\\site-packages\\sklearn\\linear_model\\_logistic.py:818: ConvergenceWarning: lbfgs failed to converge (status=1):\n",
      "STOP: TOTAL NO. of ITERATIONS REACHED LIMIT.\n",
      "\n",
      "Increase the number of iterations (max_iter) or scale the data as shown in:\n",
      "    https://scikit-learn.org/stable/modules/preprocessing.html\n",
      "Please also refer to the documentation for alternative solver options:\n",
      "    https://scikit-learn.org/stable/modules/linear_model.html#logistic-regression\n",
      "  extra_warning_msg=_LOGISTIC_SOLVER_CONVERGENCE_MSG,\n",
      "C:\\Users\\DSSAL\\Anaconda3\\lib\\site-packages\\sklearn\\utils\\validation.py:993: DataConversionWarning: A column-vector y was passed when a 1d array was expected. Please change the shape of y to (n_samples, ), for example using ravel().\n",
      "  y = column_or_1d(y, warn=True)\n",
      "C:\\Users\\DSSAL\\Anaconda3\\lib\\site-packages\\sklearn\\linear_model\\_logistic.py:818: ConvergenceWarning: lbfgs failed to converge (status=1):\n",
      "STOP: TOTAL NO. of ITERATIONS REACHED LIMIT.\n",
      "\n",
      "Increase the number of iterations (max_iter) or scale the data as shown in:\n",
      "    https://scikit-learn.org/stable/modules/preprocessing.html\n",
      "Please also refer to the documentation for alternative solver options:\n",
      "    https://scikit-learn.org/stable/modules/linear_model.html#logistic-regression\n",
      "  extra_warning_msg=_LOGISTIC_SOLVER_CONVERGENCE_MSG,\n",
      "C:\\Users\\DSSAL\\Anaconda3\\lib\\site-packages\\sklearn\\utils\\validation.py:993: DataConversionWarning: A column-vector y was passed when a 1d array was expected. Please change the shape of y to (n_samples, ), for example using ravel().\n",
      "  y = column_or_1d(y, warn=True)\n",
      "C:\\Users\\DSSAL\\Anaconda3\\lib\\site-packages\\sklearn\\linear_model\\_logistic.py:818: ConvergenceWarning: lbfgs failed to converge (status=1):\n",
      "STOP: TOTAL NO. of ITERATIONS REACHED LIMIT.\n",
      "\n",
      "Increase the number of iterations (max_iter) or scale the data as shown in:\n",
      "    https://scikit-learn.org/stable/modules/preprocessing.html\n",
      "Please also refer to the documentation for alternative solver options:\n",
      "    https://scikit-learn.org/stable/modules/linear_model.html#logistic-regression\n",
      "  extra_warning_msg=_LOGISTIC_SOLVER_CONVERGENCE_MSG,\n",
      "C:\\Users\\DSSAL\\Anaconda3\\lib\\site-packages\\sklearn\\utils\\validation.py:993: DataConversionWarning: A column-vector y was passed when a 1d array was expected. Please change the shape of y to (n_samples, ), for example using ravel().\n",
      "  y = column_or_1d(y, warn=True)\n",
      "C:\\Users\\DSSAL\\Anaconda3\\lib\\site-packages\\sklearn\\linear_model\\_logistic.py:818: ConvergenceWarning: lbfgs failed to converge (status=1):\n",
      "STOP: TOTAL NO. of ITERATIONS REACHED LIMIT.\n",
      "\n",
      "Increase the number of iterations (max_iter) or scale the data as shown in:\n",
      "    https://scikit-learn.org/stable/modules/preprocessing.html\n",
      "Please also refer to the documentation for alternative solver options:\n",
      "    https://scikit-learn.org/stable/modules/linear_model.html#logistic-regression\n",
      "  extra_warning_msg=_LOGISTIC_SOLVER_CONVERGENCE_MSG,\n",
      "C:\\Users\\DSSAL\\Anaconda3\\lib\\site-packages\\sklearn\\model_selection\\_validation.py:372: FitFailedWarning: \n",
      "30 fits failed out of a total of 60.\n",
      "The score on these train-test partitions for these parameters will be set to nan.\n",
      "If these failures are not expected, you can try to debug them by setting error_score='raise'.\n",
      "\n",
      "Below are more details about the failures:\n",
      "--------------------------------------------------------------------------------\n",
      "30 fits failed with the following error:\n",
      "Traceback (most recent call last):\n",
      "  File \"C:\\Users\\DSSAL\\Anaconda3\\lib\\site-packages\\sklearn\\model_selection\\_validation.py\", line 680, in _fit_and_score\n",
      "    estimator.fit(X_train, y_train, **fit_params)\n",
      "  File \"C:\\Users\\DSSAL\\Anaconda3\\lib\\site-packages\\sklearn\\linear_model\\_logistic.py\", line 1461, in fit\n",
      "    solver = _check_solver(self.solver, self.penalty, self.dual)\n",
      "  File \"C:\\Users\\DSSAL\\Anaconda3\\lib\\site-packages\\sklearn\\linear_model\\_logistic.py\", line 449, in _check_solver\n",
      "    % (solver, penalty)\n",
      "ValueError: Solver lbfgs supports only 'l2' or 'none' penalties, got l1 penalty.\n",
      "\n",
      "  warnings.warn(some_fits_failed_message, FitFailedWarning)\n",
      "C:\\Users\\DSSAL\\Anaconda3\\lib\\site-packages\\sklearn\\model_selection\\_search.py:972: UserWarning: One or more of the test scores are non-finite: [       nan 0.5326737         nan 0.70896705        nan 0.7462006\n",
      "        nan 0.81231421        nan 0.82219726        nan 0.81839498]\n",
      "  category=UserWarning,\n",
      "C:\\Users\\DSSAL\\Anaconda3\\lib\\site-packages\\sklearn\\utils\\validation.py:993: DataConversionWarning: A column-vector y was passed when a 1d array was expected. Please change the shape of y to (n_samples, ), for example using ravel().\n",
      "  y = column_or_1d(y, warn=True)\n"
     ]
    }
   ],
   "source": [
    "from sklearn.linear_model import LogisticRegression\n",
    "from sklearn.model_selection import GridSearchCV\n",
    "\n",
    "param_grid = {'C': [0.001, 0.01, 0.1, 1, 10, 100],\n",
    "              'penalty': ['l1', 'l2']}\n",
    "\n",
    "lr_orgin = LogisticRegression()\n",
    "\n",
    "\n",
    "lr = GridSearchCV(lr_orgin, param_grid, cv=5, verbose=3).fit(x_train, y_train)     "
   ]
  },
  {
   "cell_type": "code",
   "execution_count": 35,
   "metadata": {},
   "outputs": [
    {
     "data": {
      "text/plain": [
       "{'C': 10, 'penalty': 'l2'}"
      ]
     },
     "execution_count": 35,
     "metadata": {},
     "output_type": "execute_result"
    }
   ],
   "source": [
    "lr.best_params_"
   ]
  },
  {
   "cell_type": "code",
   "execution_count": 36,
   "metadata": {},
   "outputs": [],
   "source": [
    "lr_pred = lr.predict(x_test)"
   ]
  },
  {
   "cell_type": "code",
   "execution_count": 37,
   "metadata": {
    "colab": {
     "base_uri": "https://localhost:8080/"
    },
    "executionInfo": {
     "elapsed": 8,
     "status": "ok",
     "timestamp": 1637215608278,
     "user": {
      "displayName": "성균관대학교이해인",
      "photoUrl": "https://lh3.googleusercontent.com/a/default-user=s64",
      "userId": "18353716469576030948"
     },
     "user_tz": -540
    },
    "id": "i8hQDCV01IRi",
    "outputId": "f6abb8c7-9bbd-43a2-d731-a49a0c9b19c5"
   },
   "outputs": [
    {
     "name": "stdout",
     "output_type": "stream",
     "text": [
      "Test Accuracy: 0.808511\n"
     ]
    }
   ],
   "source": [
    "print(\"Test Accuracy: %f\" % accuracy_score(y_test, lr_pred))"
   ]
  },
  {
   "cell_type": "markdown",
   "metadata": {},
   "source": [
    "# Results Summary"
   ]
  },
  {
   "cell_type": "code",
   "execution_count": 43,
   "metadata": {
    "colab": {
     "base_uri": "https://localhost:8080/",
     "height": 343
    },
    "executionInfo": {
     "elapsed": 601,
     "status": "ok",
     "timestamp": 1637215608873,
     "user": {
      "displayName": "성균관대학교이해인",
      "photoUrl": "https://lh3.googleusercontent.com/a/default-user=s64",
      "userId": "18353716469576030948"
     },
     "user_tz": -540
    },
    "id": "Jn9SowAM1IYP",
    "outputId": "83722173-423d-4d57-81e5-e6eeae108ef8"
   },
   "outputs": [
    {
     "data": {
      "text/plain": [
       "Text(0.5, 257.44, 'Predicted label')"
      ]
     },
     "execution_count": 43,
     "metadata": {},
     "output_type": "execute_result"
    },
    {
     "data": {
      "image/png": "[encoded data removed]",
      "text/plain": [
       "<Figure size 432x288 with 2 Axes>"
      ]
     },
     "metadata": {
      "needs_background": "light"
     },
     "output_type": "display_data"
    }
   ],
   "source": [
    "cnf_matrix = metrics.confusion_matrix(y_test, lr_pred)\n",
    "\n",
    "class_names=[0,1] # name  of classes\n",
    "fig, ax = plt.subplots()\n",
    "tick_marks = np.arange(len(class_names))\n",
    "plt.xticks(tick_marks, class_names)\n",
    "plt.yticks(tick_marks, class_names)\n",
    "# create heatmap\n",
    "sns.heatmap(pd.DataFrame(cnf_matrix), annot=True, cmap=\"YlGnBu\" ,fmt='g')\n",
    "ax.xaxis.set_label_position(\"top\")\n",
    "plt.tight_layout()\n",
    "plt.title('Confusion matrix', y=1.1)\n",
    "plt.ylabel('Actual label')\n",
    "plt.xlabel('Predicted label')"
   ]
  },
  {
   "cell_type": "code",
   "execution_count": 44,
   "metadata": {
    "colab": {
     "base_uri": "https://localhost:8080/"
    },
    "executionInfo": {
     "elapsed": 16,
     "status": "ok",
     "timestamp": 1637215608875,
     "user": {
      "displayName": "성균관대학교이해인",
      "photoUrl": "https://lh3.googleusercontent.com/a/default-user=s64",
      "userId": "18353716469576030948"
     },
     "user_tz": -540
    },
    "id": "fYxl_IQa1bb7",
    "outputId": "b2ffae63-6f0d-408c-8348-18cc39bdb3f7"
   },
   "outputs": [
    {
     "name": "stdout",
     "output_type": "stream",
     "text": [
      "Accuracy: 0.8085106382978723\n",
      "Precision: 0.75\n",
      "Recall: 0.9130434782608695\n",
      "F1score: 0.8235294117647057\n"
     ]
    }
   ],
   "source": [
    "print(\"Accuracy:\",metrics.accuracy_score(y_test, lr_pred))\n",
    "print(\"Precision:\",metrics.precision_score(y_test, lr_pred))\n",
    "print(\"Recall:\",metrics.recall_score(y_test, lr_pred))\n",
    "print(\"F1score:\",metrics.f1_score(y_test, lr_pred))"
   ]
  },
  {
   "cell_type": "code",
   "execution_count": 45,
   "metadata": {},
   "outputs": [],
   "source": [
    "import joblib #수정해야함\n",
    "\n",
    "# 모델 저장\n",
    "joblib.dump(lr, 'C:/Users/DSSAL/Downloads/Fintech_Bitcoin/220401_meeting_ver/Bitcoin_result_revision/lr_bitcoin_sent.pkl')\n",
    "\n",
    "# 모델 불러오기\n",
    "lr_model = joblib.load('C:/Users/DSSAL/Downloads/Fintech_Bitcoin/220401_meeting_ver/Bitcoin_result_revision/lr_bitcoin_sent.pkl')"
   ]
  },
  {
   "cell_type": "code",
   "execution_count": 46,
   "metadata": {
    "colab": {
     "base_uri": "https://localhost:8080/"
    },
    "executionInfo": {
     "elapsed": 23,
     "status": "ok",
     "timestamp": 1637215757037,
     "user": {
      "displayName": "성균관대학교이해인",
      "photoUrl": "https://lh3.googleusercontent.com/a/default-user=s64",
      "userId": "18353716469576030948"
     },
     "user_tz": -540
    },
    "id": "EC8pWmBs60UM",
    "outputId": "eaa41ec0-e469-4caa-89bb-f4dbdb23cab7"
   },
   "outputs": [
    {
     "data": {
      "text/plain": [
       "GridSearchCV(cv=5, estimator=LogisticRegression(),\n",
       "             param_grid={'C': [0.001, 0.01, 0.1, 1, 10, 100],\n",
       "                         'penalty': ['l1', 'l2']},\n",
       "             verbose=3)"
      ]
     },
     "execution_count": 46,
     "metadata": {},
     "output_type": "execute_result"
    }
   ],
   "source": [
    "lr_model"
   ]
  },
  {
   "cell_type": "code",
   "execution_count": 47,
   "metadata": {
    "colab": {
     "base_uri": "https://localhost:8080/"
    },
    "executionInfo": {
     "elapsed": 1632,
     "status": "ok",
     "timestamp": 1637215759033,
     "user": {
      "displayName": "성균관대학교이해인",
      "photoUrl": "https://lh3.googleusercontent.com/a/default-user=s64",
      "userId": "18353716469576030948"
     },
     "user_tz": -540
    },
    "id": "EFIvcC2160WA",
    "outputId": "b75e5d02-f313-469b-8c94-cbc4a255f7d9"
   },
   "outputs": [
    {
     "data": {
      "text/plain": [
       "0.8085106382978723"
      ]
     },
     "execution_count": 47,
     "metadata": {},
     "output_type": "execute_result"
    }
   ],
   "source": [
    "from sklearn.metrics import accuracy_score, confusion_matrix, classification_report\n",
    "\n",
    "y_pred = lr_model.predict(x_test)\n",
    "predictions = [value for value in y_pred]\n",
    "\n",
    "accuracy_score(y_test, predictions)"
   ]
  },
  {
   "cell_type": "code",
   "execution_count": 48,
   "metadata": {
    "colab": {
     "base_uri": "https://localhost:8080/",
     "height": 204
    },
    "executionInfo": {
     "elapsed": 17,
     "status": "ok",
     "timestamp": 1637215759034,
     "user": {
      "displayName": "성균관대학교이해인",
      "photoUrl": "https://lh3.googleusercontent.com/a/default-user=s64",
      "userId": "18353716469576030948"
     },
     "user_tz": -540
    },
    "id": "TyOpTcFI1bdz",
    "outputId": "60a8d2a1-6e53-4817-bb89-288a07453b93"
   },
   "outputs": [
    {
     "data": {
      "text/html": [
       "<div>\n",
       "<style scoped>\n",
       "    .dataframe tbody tr th:only-of-type {\n",
       "        vertical-align: middle;\n",
       "    }\n",
       "\n",
       "    .dataframe tbody tr th {\n",
       "        vertical-align: top;\n",
       "    }\n",
       "\n",
       "    .dataframe thead th {\n",
       "        text-align: right;\n",
       "    }\n",
       "</style>\n",
       "<table border=\"1\" class=\"dataframe\">\n",
       "  <thead>\n",
       "    <tr style=\"text-align: right;\">\n",
       "      <th></th>\n",
       "      <th>precision</th>\n",
       "      <th>recall</th>\n",
       "      <th>f1-score</th>\n",
       "      <th>support</th>\n",
       "    </tr>\n",
       "  </thead>\n",
       "  <tbody>\n",
       "    <tr>\n",
       "      <th>class(0)</th>\n",
       "      <td>0.894737</td>\n",
       "      <td>0.708333</td>\n",
       "      <td>0.790698</td>\n",
       "      <td>168.000000</td>\n",
       "    </tr>\n",
       "    <tr>\n",
       "      <th>class(1)</th>\n",
       "      <td>0.750000</td>\n",
       "      <td>0.913043</td>\n",
       "      <td>0.823529</td>\n",
       "      <td>161.000000</td>\n",
       "    </tr>\n",
       "    <tr>\n",
       "      <th>accuracy</th>\n",
       "      <td>0.808511</td>\n",
       "      <td>0.808511</td>\n",
       "      <td>0.808511</td>\n",
       "      <td>0.808511</td>\n",
       "    </tr>\n",
       "    <tr>\n",
       "      <th>macro avg</th>\n",
       "      <td>0.822368</td>\n",
       "      <td>0.810688</td>\n",
       "      <td>0.807114</td>\n",
       "      <td>329.000000</td>\n",
       "    </tr>\n",
       "    <tr>\n",
       "      <th>weighted avg</th>\n",
       "      <td>0.823908</td>\n",
       "      <td>0.808511</td>\n",
       "      <td>0.806764</td>\n",
       "      <td>329.000000</td>\n",
       "    </tr>\n",
       "  </tbody>\n",
       "</table>\n",
       "</div>"
      ],
      "text/plain": [
       "              precision    recall  f1-score     support\n",
       "class(0)       0.894737  0.708333  0.790698  168.000000\n",
       "class(1)       0.750000  0.913043  0.823529  161.000000\n",
       "accuracy       0.808511  0.808511  0.808511    0.808511\n",
       "macro avg      0.822368  0.810688  0.807114  329.000000\n",
       "weighted avg   0.823908  0.808511  0.806764  329.000000"
      ]
     },
     "execution_count": 48,
     "metadata": {},
     "output_type": "execute_result"
    }
   ],
   "source": [
    "from sklearn.metrics import classification_report\n",
    "\n",
    "report = classification_report(y_test, y_pred, target_names=['class(0)', 'class(1)'], output_dict=True)\n",
    "df = pd.DataFrame(report).transpose()\n",
    "\n",
    "df"
   ]
  },
  {
   "cell_type": "code",
   "execution_count": 49,
   "metadata": {},
   "outputs": [
    {
     "data": {
      "text/plain": [
       "LogisticRegression(C=10)"
      ]
     },
     "execution_count": 49,
     "metadata": {},
     "output_type": "execute_result"
    }
   ],
   "source": [
    "lr_model.best_estimator_"
   ]
  },
  {
   "cell_type": "code",
   "execution_count": 50,
   "metadata": {},
   "outputs": [
    {
     "data": {
      "text/plain": [
       "array([0.80062191, 0.84646193, 0.00580393, 0.62808158, 0.97826386,\n",
       "       0.08199147, 0.04165815, 0.95938698, 0.86868668, 0.50488513,\n",
       "       0.73436075, 0.02220899, 0.12709875, 0.45871985, 0.36301939,\n",
       "       0.57691568, 0.24332518, 0.28553933, 0.38250988, 0.30927599,\n",
       "       0.32332431, 0.99869298, 0.97805434, 0.72410328, 0.59362376,\n",
       "       0.93753468, 0.92343946, 0.430981  , 0.84953579, 0.02979383,\n",
       "       0.98330663, 0.94597122, 0.89366035, 0.89933056, 0.35786115,\n",
       "       0.01057427, 0.56806863, 0.34272074, 0.40063993, 0.53670027,\n",
       "       0.28724587, 0.35021295, 0.41847369, 0.39081758, 0.47500358,\n",
       "       0.99840755, 0.86867999, 0.63601071, 0.47762376, 0.99052012,\n",
       "       0.96302219, 0.8866958 , 0.81161422, 0.01497899, 0.21610937,\n",
       "       0.98488598, 0.99774188, 0.87758855, 0.8637465 , 0.88815108,\n",
       "       0.06974304, 0.05793869, 0.6990209 , 0.54072292, 0.41923432,\n",
       "       0.99874852, 0.94453613, 0.81725476, 0.42005698, 0.94535692,\n",
       "       0.94168638, 0.75707721, 0.27220079, 0.02807036, 0.24025389,\n",
       "       0.52857223, 0.51713176, 0.33513881, 0.80652654, 0.97983032,\n",
       "       0.95291168, 0.03251788, 0.20614123, 0.99427535, 0.93037335,\n",
       "       0.80251991, 0.5530827 , 0.0102631 , 0.32679119, 0.98629461,\n",
       "       0.98731191, 0.02065263, 0.35298344, 0.4026735 , 0.15588869,\n",
       "       0.99488867, 0.82456615, 0.89607533, 0.05831147, 0.02601131,\n",
       "       0.43059025, 0.40986176, 0.34773473, 0.63988381, 0.89781113,\n",
       "       0.09848901, 0.14417265, 0.99846458, 0.97029021, 0.70986576,\n",
       "       0.8046948 , 0.8690921 , 0.93203388, 0.93184613, 0.91619125,\n",
       "       0.88118769, 0.88425637, 0.09169363, 0.03409868, 0.38527118,\n",
       "       0.60804235, 0.88877506, 0.99696635, 0.94412525, 0.7682486 ,\n",
       "       0.31801526, 0.94518767, 0.16339562, 0.28012452, 0.22790182,\n",
       "       0.99506732, 0.8501043 , 0.42770309, 0.06999305, 0.27875216,\n",
       "       0.59374262, 0.98153481, 0.99230742, 0.68602879, 0.75409758,\n",
       "       0.88749597, 0.01107344, 0.67213419, 0.29198423, 0.8338279 ,\n",
       "       0.91982526, 0.57395529, 0.03234878, 0.27715364, 0.99380341,\n",
       "       0.9862667 , 0.84499283, 0.74855706, 0.85148759, 0.86131304,\n",
       "       0.00441834, 0.07750493, 0.63578808, 0.41276667, 0.71090081,\n",
       "       0.99679102, 0.08253321, 0.95033241, 0.96189601, 0.58170904,\n",
       "       0.48392738, 0.94779294, 0.01388379, 0.07831966, 0.52240006,\n",
       "       0.94741456, 0.96987782, 0.59661366, 0.47697258, 0.1957232 ,\n",
       "       0.05814648, 0.29133736, 0.92651937, 0.99642051, 0.94388509,\n",
       "       0.65801997, 0.85376313, 0.89420287, 0.88064772, 0.88963303,\n",
       "       0.32555662, 0.45545952, 0.64396813, 0.19358896, 0.99279066,\n",
       "       0.04568977, 0.4988583 , 0.7961573 , 0.98777939, 0.59348806,\n",
       "       0.48572621, 0.83472327, 0.92492554, 0.85698306, 0.00304851,\n",
       "       0.05362207, 0.54522408, 0.29191552, 0.99221048, 0.02715266,\n",
       "       0.03445414, 0.84456602, 0.89760517, 0.89482839, 0.43216115,\n",
       "       0.01159038, 0.99351397, 0.93728117, 0.00639004, 0.10806891,\n",
       "       0.80706518, 0.99686166, 0.96845546, 0.55748652, 0.05557391,\n",
       "       0.34583703, 0.62602834, 0.99848843, 0.03111848, 0.03449868,\n",
       "       0.47987356, 0.33183541, 0.67540895, 0.99653218, 0.68101851,\n",
       "       0.00947376, 0.76362049, 0.73421882, 0.98495821, 0.01868332,\n",
       "       0.32945954, 0.99661823, 0.96746676, 0.51209402, 0.73335589,\n",
       "       0.0135123 , 0.10724808, 0.54991938, 0.53975943, 0.86285526,\n",
       "       0.94813921, 0.97696279, 0.01482958, 0.09179634, 0.99925789,\n",
       "       0.98015289, 0.03846119, 0.92605524, 0.97725774, 0.31283771,\n",
       "       0.05848843, 0.73244029, 0.70029976, 0.98723037, 0.94843403,\n",
       "       0.60569065, 0.84553547, 0.88321033, 0.62905298, 0.91148948,\n",
       "       0.57162631, 0.0116552 , 0.14726585, 0.80985011, 0.27347663,\n",
       "       0.99625973, 0.87160083, 0.04320473, 0.05016502, 0.17673888,\n",
       "       0.32399525, 0.31614287, 0.41989693, 0.85284982, 0.74297524,\n",
       "       0.97446427, 0.90226891, 0.17308596, 0.82642791, 0.80066646,\n",
       "       0.5143844 , 0.0253717 , 0.57655738, 0.25420396, 0.21905986,\n",
       "       0.35282458, 0.32210582, 0.89933453, 0.95853461, 0.94644735,\n",
       "       0.74806434, 0.716785  , 0.76614439, 0.78787731, 0.65682255,\n",
       "       0.86168515, 0.86342587, 0.00532735, 0.5278679 , 0.99843408,\n",
       "       0.93674033, 0.77777037, 0.87661628, 0.88721842, 0.88504586,\n",
       "       0.03394297, 0.04592012, 0.39690239, 0.48022596, 0.83282107,\n",
       "       0.99494206, 0.44616372, 0.0050345 , 0.1270132 , 0.49212487,\n",
       "       0.28674241, 0.23238206, 0.95804295, 0.31357317, 0.96941961,\n",
       "       0.92069743, 0.5828659 , 0.04374265, 0.9742192 ])"
      ]
     },
     "execution_count": 50,
     "metadata": {},
     "output_type": "execute_result"
    }
   ],
   "source": [
    "from sklearn.metrics import roc_curve\n",
    "\n",
    "# 레이블 값이 1일 때 예측 확률 추출\n",
    "lr_pred_proba_class_1 = lr_model.predict_proba(x_test)[:,1]\n",
    "lr_pred_proba_class_1"
   ]
  },
  {
   "cell_type": "code",
   "execution_count": 51,
   "metadata": {},
   "outputs": [
    {
     "data": {
      "text/html": [
       "<div>\n",
       "<style scoped>\n",
       "    .dataframe tbody tr th:only-of-type {\n",
       "        vertical-align: middle;\n",
       "    }\n",
       "\n",
       "    .dataframe tbody tr th {\n",
       "        vertical-align: top;\n",
       "    }\n",
       "\n",
       "    .dataframe thead th {\n",
       "        text-align: right;\n",
       "    }\n",
       "</style>\n",
       "<table border=\"1\" class=\"dataframe\">\n",
       "  <thead>\n",
       "    <tr style=\"text-align: right;\">\n",
       "      <th></th>\n",
       "      <th>index</th>\n",
       "      <th>FPR</th>\n",
       "      <th>TPR</th>\n",
       "    </tr>\n",
       "  </thead>\n",
       "  <tbody>\n",
       "    <tr>\n",
       "      <th>0</th>\n",
       "      <td>1</td>\n",
       "      <td>0.000000</td>\n",
       "      <td>0.006211</td>\n",
       "    </tr>\n",
       "    <tr>\n",
       "      <th>1</th>\n",
       "      <td>2</td>\n",
       "      <td>0.000000</td>\n",
       "      <td>0.242236</td>\n",
       "    </tr>\n",
       "    <tr>\n",
       "      <th>2</th>\n",
       "      <td>3</td>\n",
       "      <td>0.005952</td>\n",
       "      <td>0.242236</td>\n",
       "    </tr>\n",
       "    <tr>\n",
       "      <th>3</th>\n",
       "      <td>4</td>\n",
       "      <td>0.005952</td>\n",
       "      <td>0.285714</td>\n",
       "    </tr>\n",
       "    <tr>\n",
       "      <th>4</th>\n",
       "      <td>5</td>\n",
       "      <td>0.011905</td>\n",
       "      <td>0.285714</td>\n",
       "    </tr>\n",
       "    <tr>\n",
       "      <th>...</th>\n",
       "      <td>...</td>\n",
       "      <td>...</td>\n",
       "      <td>...</td>\n",
       "    </tr>\n",
       "    <tr>\n",
       "      <th>80</th>\n",
       "      <td>81</td>\n",
       "      <td>0.565476</td>\n",
       "      <td>0.981366</td>\n",
       "    </tr>\n",
       "    <tr>\n",
       "      <th>81</th>\n",
       "      <td>82</td>\n",
       "      <td>0.565476</td>\n",
       "      <td>0.987578</td>\n",
       "    </tr>\n",
       "    <tr>\n",
       "      <th>82</th>\n",
       "      <td>83</td>\n",
       "      <td>0.619048</td>\n",
       "      <td>0.987578</td>\n",
       "    </tr>\n",
       "    <tr>\n",
       "      <th>83</th>\n",
       "      <td>84</td>\n",
       "      <td>0.619048</td>\n",
       "      <td>1.000000</td>\n",
       "    </tr>\n",
       "    <tr>\n",
       "      <th>84</th>\n",
       "      <td>85</td>\n",
       "      <td>1.000000</td>\n",
       "      <td>1.000000</td>\n",
       "    </tr>\n",
       "  </tbody>\n",
       "</table>\n",
       "<p>85 rows × 3 columns</p>\n",
       "</div>"
      ],
      "text/plain": [
       "    index       FPR       TPR\n",
       "0       1  0.000000  0.006211\n",
       "1       2  0.000000  0.242236\n",
       "2       3  0.005952  0.242236\n",
       "3       4  0.005952  0.285714\n",
       "4       5  0.011905  0.285714\n",
       "..    ...       ...       ...\n",
       "80     81  0.565476  0.981366\n",
       "81     82  0.565476  0.987578\n",
       "82     83  0.619048  0.987578\n",
       "83     84  0.619048  1.000000\n",
       "84     85  1.000000  1.000000\n",
       "\n",
       "[85 rows x 3 columns]"
      ]
     },
     "execution_count": 51,
     "metadata": {},
     "output_type": "execute_result"
    }
   ],
   "source": [
    "fprs, tprs, thresholds = roc_curve(y_test, lr_pred_proba_class_1)\n",
    "\n",
    "# 반환된 임곗값 배열에서 샘플로 데이터 추출\n",
    "# thresholds[0]은 max(예측확률)+1 값이 임의로 지정됨.\n",
    "\n",
    "thr_index = np.arange(1, thresholds.shape[0])\n",
    "\n",
    "pd.DataFrame({'index':thr_index,\n",
    "             'FPR':fprs[thr_index],\n",
    "             'TPR':tprs[thr_index]})"
   ]
  },
  {
   "cell_type": "code",
   "execution_count": 52,
   "metadata": {},
   "outputs": [],
   "source": [
    "import matplotlib.pyplot as plt\n",
    "\n",
    "def roc_curve_plot(y_test, pred_proba_c1):\n",
    "    # 임계값에 따른 FPR, TPR 값\n",
    "    fprs, tprs, thresholds = roc_curve(y_test, pred_proba_c1)\n",
    "    # ROC 곡선을 시각화\n",
    "    plt.plot(fprs, tprs, label='ROC')\n",
    "    # 가운데 대각선 직선\n",
    "    plt.plot([0,1],[0,1], 'k--',label='Random')\n",
    "    \n",
    "    # FPR X 축의 scla 0.1 단위 지정\n",
    "    start, end = plt.xlim()\n",
    "    plt.xticks(np.round(np.arange(start, end, 0.1), 2))\n",
    "    plt.xlim(0, 1)\n",
    "    plt.ylim(0, 1)\n",
    "    plt.xlabel('FPR( 1 - Snesitivity )')\n",
    "    plt.ylabel('TPR( Recall )')\n",
    "    plt.legend()"
   ]
  },
  {
   "cell_type": "code",
   "execution_count": 53,
   "metadata": {
    "scrolled": true
   },
   "outputs": [
    {
     "data": {
      "image/png": "[encoded data removed]",
      "text/plain": [
       "<Figure size 432x288 with 1 Axes>"
      ]
     },
     "metadata": {
      "needs_background": "light"
     },
     "output_type": "display_data"
    }
   ],
   "source": [
    "from sklearn.metrics import roc_curve\n",
    "\n",
    "roc_curve_plot(y_test, lr_pred_proba_class_1)"
   ]
  },
  {
   "cell_type": "code",
   "execution_count": 54,
   "metadata": {},
   "outputs": [
    {
     "name": "stdout",
     "output_type": "stream",
     "text": [
      "ROC AUC Score:  0.9059819580005916\n"
     ]
    }
   ],
   "source": [
    "from sklearn.metrics import roc_auc_score\n",
    "\n",
    "pred_proba = lr_model.predict_proba(x_test)[:, 1]\n",
    "roc_score = roc_auc_score(y_test, pred_proba)\n",
    "print('ROC AUC Score: ', roc_score)"
   ]
  },
  {
   "cell_type": "code",
   "execution_count": null,
   "metadata": {},
   "outputs": [],
   "source": []
  }
 ],
 "metadata": {
  "accelerator": "GPU",
  "colab": {
   "collapsed_sections": [],
   "name": "Random Forest with bow.ipynb",
   "provenance": []
  },
  "kernelspec": {
   "display_name": "Python 3",
   "language": "python",
   "name": "python3"
  },
  "language_info": {
   "codemirror_mode": {
    "name": "ipython",
    "version": 3
   },
   "file_extension": ".py",
   "mimetype": "text/x-python",
   "name": "python",
   "nbconvert_exporter": "python",
   "pygments_lexer": "ipython3",
   "version": "3.7.6"
  }
 },
 "nbformat": 4,
 "nbformat_minor": 1
}
