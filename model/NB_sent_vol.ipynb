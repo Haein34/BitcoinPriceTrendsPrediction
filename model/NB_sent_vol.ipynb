{
 "cells": [
  {
   "cell_type": "markdown",
   "metadata": {},
   "source": [
    "# For train, validation data"
   ]
  },
  {
   "cell_type": "code",
   "execution_count": 27,
   "metadata": {
    "executionInfo": {
     "elapsed": 926,
     "status": "ok",
     "timestamp": 1641357608214,
     "user": {
      "displayName": "성균관대학교이해인",
      "photoUrl": "https://lh3.googleusercontent.com/a/default-user=s64",
      "userId": "18353716469576030948"
     },
     "user_tz": -540
    },
    "id": "Si36AfexOoKl"
   },
   "outputs": [],
   "source": [
    "import os\n",
    "\n",
    "import pandas as pd\n",
    "import numpy as np\n",
    "\n",
    "from sklearn.feature_extraction.text import CountVectorizer\n",
    "from sklearn.model_selection import train_test_split\n",
    "from sklearn.naive_bayes import MultinomialNB\n",
    "\n",
    "import sklearn\n",
    "from sklearn.utils import shuffle\n",
    "from sklearn.metrics import accuracy_score\n",
    "from sklearn import metrics\n",
    "import seaborn as sns\n",
    "import matplotlib.pyplot as plt\n",
    "%matplotlib inline"
   ]
  },
  {
   "cell_type": "code",
   "execution_count": 28,
   "metadata": {},
   "outputs": [],
   "source": [
    "x_train = pd.read_csv('C:/Users/DSSAL/Downloads/Fintech_Bitcoin/220401_meeting_ver/DATA_Bitcoin_ML/x_train_220819.csv', index_col = 0)"
   ]
  },
  {
   "cell_type": "code",
   "execution_count": 29,
   "metadata": {},
   "outputs": [],
   "source": [
    "y_train = pd.read_csv('C:/Users/DSSAL/Downloads/Fintech_Bitcoin/220401_meeting_ver/DATA_Bitcoin_ML/y_train_220819.csv',index_col=0)"
   ]
  },
  {
   "cell_type": "markdown",
   "metadata": {},
   "source": [
    "# For test data"
   ]
  },
  {
   "cell_type": "code",
   "execution_count": 30,
   "metadata": {},
   "outputs": [
    {
     "data": {
      "text/html": [
       "<div>\n",
       "<style scoped>\n",
       "    .dataframe tbody tr th:only-of-type {\n",
       "        vertical-align: middle;\n",
       "    }\n",
       "\n",
       "    .dataframe tbody tr th {\n",
       "        vertical-align: top;\n",
       "    }\n",
       "\n",
       "    .dataframe thead th {\n",
       "        text-align: right;\n",
       "    }\n",
       "</style>\n",
       "<table border=\"1\" class=\"dataframe\">\n",
       "  <thead>\n",
       "    <tr style=\"text-align: right;\">\n",
       "      <th></th>\n",
       "      <th>Volume_total</th>\n",
       "      <th>sentiment_index_total</th>\n",
       "      <th>High</th>\n",
       "      <th>Low</th>\n",
       "      <th>Vol</th>\n",
       "      <th>RSI</th>\n",
       "      <th>SMA_5</th>\n",
       "      <th>SMA_20</th>\n",
       "      <th>SMA_60</th>\n",
       "      <th>EMA</th>\n",
       "      <th>MACD</th>\n",
       "      <th>signal</th>\n",
       "      <th>Stochastic RSI_fastk</th>\n",
       "      <th>Stochastic RSI_fastd</th>\n",
       "      <th>Stochastic Oscillator Index_slowk</th>\n",
       "      <th>Stochastic Oscillator Index_slowd</th>\n",
       "      <th>Fluctuations</th>\n",
       "    </tr>\n",
       "  </thead>\n",
       "  <tbody>\n",
       "    <tr>\n",
       "      <th>0</th>\n",
       "      <td>0.545000</td>\n",
       "      <td>0.195338</td>\n",
       "      <td>0.959518</td>\n",
       "      <td>0.980993</td>\n",
       "      <td>0.002937</td>\n",
       "      <td>0.597561</td>\n",
       "      <td>0.991824</td>\n",
       "      <td>1.001365</td>\n",
       "      <td>1.009106</td>\n",
       "      <td>1.007050</td>\n",
       "      <td>0.436198</td>\n",
       "      <td>0.466803</td>\n",
       "      <td>0.972114</td>\n",
       "      <td>0.989451</td>\n",
       "      <td>0.858229</td>\n",
       "      <td>0.901095</td>\n",
       "      <td>0</td>\n",
       "    </tr>\n",
       "    <tr>\n",
       "      <th>1</th>\n",
       "      <td>0.585140</td>\n",
       "      <td>0.239189</td>\n",
       "      <td>0.971860</td>\n",
       "      <td>0.988536</td>\n",
       "      <td>0.003102</td>\n",
       "      <td>0.604627</td>\n",
       "      <td>1.003399</td>\n",
       "      <td>0.999281</td>\n",
       "      <td>1.018160</td>\n",
       "      <td>1.013699</td>\n",
       "      <td>0.445752</td>\n",
       "      <td>0.470496</td>\n",
       "      <td>1.000000</td>\n",
       "      <td>0.989451</td>\n",
       "      <td>0.803497</td>\n",
       "      <td>0.871422</td>\n",
       "      <td>1</td>\n",
       "    </tr>\n",
       "    <tr>\n",
       "      <th>2</th>\n",
       "      <td>0.537338</td>\n",
       "      <td>0.261605</td>\n",
       "      <td>0.965686</td>\n",
       "      <td>0.960906</td>\n",
       "      <td>0.002922</td>\n",
       "      <td>0.527532</td>\n",
       "      <td>1.001395</td>\n",
       "      <td>0.997352</td>\n",
       "      <td>1.025831</td>\n",
       "      <td>1.012624</td>\n",
       "      <td>0.427793</td>\n",
       "      <td>0.469277</td>\n",
       "      <td>0.000000</td>\n",
       "      <td>0.657371</td>\n",
       "      <td>0.519993</td>\n",
       "      <td>0.739452</td>\n",
       "      <td>0</td>\n",
       "    </tr>\n",
       "    <tr>\n",
       "      <th>3</th>\n",
       "      <td>0.498165</td>\n",
       "      <td>0.284602</td>\n",
       "      <td>0.943563</td>\n",
       "      <td>0.953181</td>\n",
       "      <td>0.002353</td>\n",
       "      <td>0.562177</td>\n",
       "      <td>0.999335</td>\n",
       "      <td>0.999615</td>\n",
       "      <td>1.033139</td>\n",
       "      <td>1.015618</td>\n",
       "      <td>0.424889</td>\n",
       "      <td>0.467627</td>\n",
       "      <td>0.449382</td>\n",
       "      <td>0.483127</td>\n",
       "      <td>0.404208</td>\n",
       "      <td>0.581804</td>\n",
       "      <td>1</td>\n",
       "    </tr>\n",
       "    <tr>\n",
       "      <th>4</th>\n",
       "      <td>0.521225</td>\n",
       "      <td>0.240861</td>\n",
       "      <td>0.956106</td>\n",
       "      <td>0.959773</td>\n",
       "      <td>0.002201</td>\n",
       "      <td>0.585381</td>\n",
       "      <td>1.000163</td>\n",
       "      <td>1.001591</td>\n",
       "      <td>1.040965</td>\n",
       "      <td>1.020763</td>\n",
       "      <td>0.429689</td>\n",
       "      <td>0.467423</td>\n",
       "      <td>0.750362</td>\n",
       "      <td>0.399915</td>\n",
       "      <td>0.371906</td>\n",
       "      <td>0.431945</td>\n",
       "      <td>1</td>\n",
       "    </tr>\n",
       "    <tr>\n",
       "      <th>...</th>\n",
       "      <td>...</td>\n",
       "      <td>...</td>\n",
       "      <td>...</td>\n",
       "      <td>...</td>\n",
       "      <td>...</td>\n",
       "      <td>...</td>\n",
       "      <td>...</td>\n",
       "      <td>...</td>\n",
       "      <td>...</td>\n",
       "      <td>...</td>\n",
       "      <td>...</td>\n",
       "      <td>...</td>\n",
       "      <td>...</td>\n",
       "      <td>...</td>\n",
       "      <td>...</td>\n",
       "      <td>...</td>\n",
       "      <td>...</td>\n",
       "    </tr>\n",
       "    <tr>\n",
       "      <th>324</th>\n",
       "      <td>0.604923</td>\n",
       "      <td>-0.000763</td>\n",
       "      <td>0.619732</td>\n",
       "      <td>0.561479</td>\n",
       "      <td>0.008440</td>\n",
       "      <td>0.385186</td>\n",
       "      <td>0.629822</td>\n",
       "      <td>0.711181</td>\n",
       "      <td>0.809156</td>\n",
       "      <td>0.674852</td>\n",
       "      <td>0.091733</td>\n",
       "      <td>0.163752</td>\n",
       "      <td>1.000000</td>\n",
       "      <td>0.632657</td>\n",
       "      <td>0.406729</td>\n",
       "      <td>0.215167</td>\n",
       "      <td>1</td>\n",
       "    </tr>\n",
       "    <tr>\n",
       "      <th>325</th>\n",
       "      <td>0.362027</td>\n",
       "      <td>0.097440</td>\n",
       "      <td>0.625358</td>\n",
       "      <td>0.626757</td>\n",
       "      <td>0.003665</td>\n",
       "      <td>0.426774</td>\n",
       "      <td>0.632902</td>\n",
       "      <td>0.709112</td>\n",
       "      <td>0.805078</td>\n",
       "      <td>0.674742</td>\n",
       "      <td>0.097517</td>\n",
       "      <td>0.147132</td>\n",
       "      <td>1.000000</td>\n",
       "      <td>0.763958</td>\n",
       "      <td>0.591088</td>\n",
       "      <td>0.384335</td>\n",
       "      <td>1</td>\n",
       "    </tr>\n",
       "    <tr>\n",
       "      <th>326</th>\n",
       "      <td>0.327240</td>\n",
       "      <td>0.149952</td>\n",
       "      <td>0.632318</td>\n",
       "      <td>0.637323</td>\n",
       "      <td>0.001580</td>\n",
       "      <td>0.422939</td>\n",
       "      <td>0.640462</td>\n",
       "      <td>0.706033</td>\n",
       "      <td>0.802081</td>\n",
       "      <td>0.674333</td>\n",
       "      <td>0.102285</td>\n",
       "      <td>0.134943</td>\n",
       "      <td>0.961115</td>\n",
       "      <td>0.987038</td>\n",
       "      <td>0.819918</td>\n",
       "      <td>0.613067</td>\n",
       "      <td>0</td>\n",
       "    </tr>\n",
       "    <tr>\n",
       "      <th>327</th>\n",
       "      <td>0.375777</td>\n",
       "      <td>0.093268</td>\n",
       "      <td>0.627981</td>\n",
       "      <td>0.609392</td>\n",
       "      <td>0.002794</td>\n",
       "      <td>0.367167</td>\n",
       "      <td>0.638447</td>\n",
       "      <td>0.700260</td>\n",
       "      <td>0.798961</td>\n",
       "      <td>0.669151</td>\n",
       "      <td>0.090336</td>\n",
       "      <td>0.122416</td>\n",
       "      <td>0.395550</td>\n",
       "      <td>0.785555</td>\n",
       "      <td>0.779561</td>\n",
       "      <td>0.742524</td>\n",
       "      <td>0</td>\n",
       "    </tr>\n",
       "    <tr>\n",
       "      <th>328</th>\n",
       "      <td>0.412819</td>\n",
       "      <td>0.061551</td>\n",
       "      <td>0.698113</td>\n",
       "      <td>0.616418</td>\n",
       "      <td>0.004865</td>\n",
       "      <td>0.577523</td>\n",
       "      <td>0.659938</td>\n",
       "      <td>0.699462</td>\n",
       "      <td>0.797562</td>\n",
       "      <td>0.683595</td>\n",
       "      <td>0.147896</td>\n",
       "      <td>0.125770</td>\n",
       "      <td>1.000000</td>\n",
       "      <td>0.785555</td>\n",
       "      <td>0.782100</td>\n",
       "      <td>0.808848</td>\n",
       "      <td>1</td>\n",
       "    </tr>\n",
       "  </tbody>\n",
       "</table>\n",
       "<p>329 rows × 17 columns</p>\n",
       "</div>"
      ],
      "text/plain": [
       "     Volume_total  sentiment_index_total      High       Low       Vol  \\\n",
       "0        0.545000               0.195338  0.959518  0.980993  0.002937   \n",
       "1        0.585140               0.239189  0.971860  0.988536  0.003102   \n",
       "2        0.537338               0.261605  0.965686  0.960906  0.002922   \n",
       "3        0.498165               0.284602  0.943563  0.953181  0.002353   \n",
       "4        0.521225               0.240861  0.956106  0.959773  0.002201   \n",
       "..            ...                    ...       ...       ...       ...   \n",
       "324      0.604923              -0.000763  0.619732  0.561479  0.008440   \n",
       "325      0.362027               0.097440  0.625358  0.626757  0.003665   \n",
       "326      0.327240               0.149952  0.632318  0.637323  0.001580   \n",
       "327      0.375777               0.093268  0.627981  0.609392  0.002794   \n",
       "328      0.412819               0.061551  0.698113  0.616418  0.004865   \n",
       "\n",
       "          RSI     SMA_5    SMA_20    SMA_60       EMA      MACD    signal  \\\n",
       "0    0.597561  0.991824  1.001365  1.009106  1.007050  0.436198  0.466803   \n",
       "1    0.604627  1.003399  0.999281  1.018160  1.013699  0.445752  0.470496   \n",
       "2    0.527532  1.001395  0.997352  1.025831  1.012624  0.427793  0.469277   \n",
       "3    0.562177  0.999335  0.999615  1.033139  1.015618  0.424889  0.467627   \n",
       "4    0.585381  1.000163  1.001591  1.040965  1.020763  0.429689  0.467423   \n",
       "..        ...       ...       ...       ...       ...       ...       ...   \n",
       "324  0.385186  0.629822  0.711181  0.809156  0.674852  0.091733  0.163752   \n",
       "325  0.426774  0.632902  0.709112  0.805078  0.674742  0.097517  0.147132   \n",
       "326  0.422939  0.640462  0.706033  0.802081  0.674333  0.102285  0.134943   \n",
       "327  0.367167  0.638447  0.700260  0.798961  0.669151  0.090336  0.122416   \n",
       "328  0.577523  0.659938  0.699462  0.797562  0.683595  0.147896  0.125770   \n",
       "\n",
       "     Stochastic RSI_fastk  Stochastic RSI_fastd  \\\n",
       "0                0.972114              0.989451   \n",
       "1                1.000000              0.989451   \n",
       "2                0.000000              0.657371   \n",
       "3                0.449382              0.483127   \n",
       "4                0.750362              0.399915   \n",
       "..                    ...                   ...   \n",
       "324              1.000000              0.632657   \n",
       "325              1.000000              0.763958   \n",
       "326              0.961115              0.987038   \n",
       "327              0.395550              0.785555   \n",
       "328              1.000000              0.785555   \n",
       "\n",
       "     Stochastic Oscillator Index_slowk  Stochastic Oscillator Index_slowd  \\\n",
       "0                             0.858229                           0.901095   \n",
       "1                             0.803497                           0.871422   \n",
       "2                             0.519993                           0.739452   \n",
       "3                             0.404208                           0.581804   \n",
       "4                             0.371906                           0.431945   \n",
       "..                                 ...                                ...   \n",
       "324                           0.406729                           0.215167   \n",
       "325                           0.591088                           0.384335   \n",
       "326                           0.819918                           0.613067   \n",
       "327                           0.779561                           0.742524   \n",
       "328                           0.782100                           0.808848   \n",
       "\n",
       "     Fluctuations  \n",
       "0               0  \n",
       "1               1  \n",
       "2               0  \n",
       "3               1  \n",
       "4               1  \n",
       "..            ...  \n",
       "324             1  \n",
       "325             1  \n",
       "326             0  \n",
       "327             0  \n",
       "328             1  \n",
       "\n",
       "[329 rows x 17 columns]"
      ]
     },
     "execution_count": 30,
     "metadata": {},
     "output_type": "execute_result"
    }
   ],
   "source": [
    "#scale까지 완료한 test data load\n",
    "test_data_scale = pd.read_csv('C:/Users/DSSAL/Downloads/Fintech_Bitcoin/220401_meeting_ver/DATA_Bitcoin_ML/testdata_220819.csv',index_col = 0)\n",
    "test_data_scale"
   ]
  },
  {
   "cell_type": "code",
   "execution_count": 31,
   "metadata": {},
   "outputs": [],
   "source": [
    "features = test_data_scale[['Volume_total','sentiment_index_total','High','Low','Vol',\n",
    "                        'RSI','SMA_5','SMA_20','SMA_60','EMA','MACD','signal','Stochastic RSI_fastk',\n",
    "                        'Stochastic RSI_fastd','Stochastic Oscillator Index_slowk','Stochastic Oscillator Index_slowd',]]\n",
    "label= list(test_data_scale['Fluctuations'])"
   ]
  },
  {
   "cell_type": "code",
   "execution_count": 32,
   "metadata": {},
   "outputs": [],
   "source": [
    "x_test = features\n",
    "y_test = np.array(label)"
   ]
  },
  {
   "cell_type": "markdown",
   "metadata": {},
   "source": [
    "# NB modeling"
   ]
  },
  {
   "cell_type": "code",
   "execution_count": 33,
   "metadata": {},
   "outputs": [
    {
     "name": "stdout",
     "output_type": "stream",
     "text": [
      "Fitting 5 folds for each of 5 candidates, totalling 25 fits\n",
      "Train Accuracy : 0.721\n",
      "Test Accuracy : 0.581\n",
      "Best Accuracy Through Grid Search : 0.717\n",
      "Best Parameters :  {'alpha': 10.0}\n"
     ]
    },
    {
     "name": "stderr",
     "output_type": "stream",
     "text": [
      "C:\\Users\\DSSAL\\Anaconda3\\lib\\site-packages\\sklearn\\utils\\validation.py:993: DataConversionWarning: A column-vector y was passed when a 1d array was expected. Please change the shape of y to (n_samples, ), for example using ravel().\n",
      "  y = column_or_1d(y, warn=True)\n"
     ]
    }
   ],
   "source": [
    "from sklearn.model_selection import GridSearchCV\n",
    "\n",
    "params = {'alpha': [0.01, 0.1, 0.5, 1.0, 10.0],\n",
    "         }\n",
    "\n",
    "nb_grid = GridSearchCV(MultinomialNB() , param_grid=params, n_jobs=-1, cv=5, verbose=5)\n",
    "nb_grid.fit(x_train, y_train)\n",
    "\n",
    "print('Train Accuracy : %.3f'%nb_grid.best_estimator_.score(x_train, y_train))\n",
    "print('Test Accuracy : %.3f'%nb_grid.best_estimator_.score(x_test, y_test))\n",
    "print('Best Accuracy Through Grid Search : %.3f'%nb_grid.best_score_)\n",
    "print('Best Parameters : ',nb_grid.best_params_)"
   ]
  },
  {
   "cell_type": "code",
   "execution_count": 34,
   "metadata": {},
   "outputs": [],
   "source": [
    "nb = nb_grid"
   ]
  },
  {
   "cell_type": "code",
   "execution_count": 35,
   "metadata": {},
   "outputs": [],
   "source": [
    "nb_pred = nb.predict(x_test)"
   ]
  },
  {
   "cell_type": "code",
   "execution_count": 36,
   "metadata": {
    "colab": {
     "base_uri": "https://localhost:8080/"
    },
    "executionInfo": {
     "elapsed": 8,
     "status": "ok",
     "timestamp": 1637215608278,
     "user": {
      "displayName": "성균관대학교이해인",
      "photoUrl": "https://lh3.googleusercontent.com/a/default-user=s64",
      "userId": "18353716469576030948"
     },
     "user_tz": -540
    },
    "id": "i8hQDCV01IRi",
    "outputId": "f6abb8c7-9bbd-43a2-d731-a49a0c9b19c5"
   },
   "outputs": [
    {
     "name": "stdout",
     "output_type": "stream",
     "text": [
      "Test Accuracy: 0.580547\n"
     ]
    }
   ],
   "source": [
    "print(\"Test Accuracy: %f\" % accuracy_score(y_test, nb_pred))"
   ]
  },
  {
   "cell_type": "markdown",
   "metadata": {},
   "source": [
    "# Results Summary"
   ]
  },
  {
   "cell_type": "code",
   "execution_count": 42,
   "metadata": {
    "colab": {
     "base_uri": "https://localhost:8080/",
     "height": 343
    },
    "executionInfo": {
     "elapsed": 601,
     "status": "ok",
     "timestamp": 1637215608873,
     "user": {
      "displayName": "성균관대학교이해인",
      "photoUrl": "https://lh3.googleusercontent.com/a/default-user=s64",
      "userId": "18353716469576030948"
     },
     "user_tz": -540
    },
    "id": "Jn9SowAM1IYP",
    "outputId": "83722173-423d-4d57-81e5-e6eeae108ef8"
   },
   "outputs": [
    {
     "data": {
      "text/plain": [
       "Text(0.5, 257.44, 'Predicted label')"
      ]
     },
     "execution_count": 42,
     "metadata": {},
     "output_type": "execute_result"
    },
    {
     "data": {
      "image/png": "[encoded data removed]",
      "text/plain": [
       "<Figure size 432x288 with 2 Axes>"
      ]
     },
     "metadata": {
      "needs_background": "light"
     },
     "output_type": "display_data"
    }
   ],
   "source": [
    "cnf_matrix = metrics.confusion_matrix(y_test, nb_pred)\n",
    "\n",
    "class_names=[0,1] # name  of classes\n",
    "fig, ax = plt.subplots()\n",
    "tick_marks = np.arange(len(class_names))\n",
    "plt.xticks(tick_marks, class_names)\n",
    "plt.yticks(tick_marks, class_names)\n",
    "# create heatmap\n",
    "sns.heatmap(pd.DataFrame(cnf_matrix), annot=True, cmap=\"YlGnBu\" ,fmt='g')\n",
    "ax.xaxis.set_label_position(\"top\")\n",
    "plt.tight_layout()\n",
    "plt.title('Confusion matrix', y=1.1)\n",
    "plt.ylabel('Actual label')\n",
    "plt.xlabel('Predicted label')"
   ]
  },
  {
   "cell_type": "code",
   "execution_count": 43,
   "metadata": {
    "colab": {
     "base_uri": "https://localhost:8080/"
    },
    "executionInfo": {
     "elapsed": 16,
     "status": "ok",
     "timestamp": 1637215608875,
     "user": {
      "displayName": "성균관대학교이해인",
      "photoUrl": "https://lh3.googleusercontent.com/a/default-user=s64",
      "userId": "18353716469576030948"
     },
     "user_tz": -540
    },
    "id": "fYxl_IQa1bb7",
    "outputId": "b2ffae63-6f0d-408c-8348-18cc39bdb3f7"
   },
   "outputs": [
    {
     "name": "stdout",
     "output_type": "stream",
     "text": [
      "Accuracy: 0.5805471124620061\n",
      "Precision: 0.7804878048780488\n",
      "Recall: 0.19875776397515527\n",
      "F1score: 0.31683168316831684\n"
     ]
    }
   ],
   "source": [
    "print(\"Accuracy:\",metrics.accuracy_score(y_test, nb_pred))\n",
    "print(\"Precision:\",metrics.precision_score(y_test, nb_pred))\n",
    "print(\"Recall:\",metrics.recall_score(y_test, nb_pred))\n",
    "print(\"F1score:\",metrics.f1_score(y_test, nb_pred))"
   ]
  },
  {
   "cell_type": "code",
   "execution_count": 44,
   "metadata": {
    "id": "J4v4xTeo60R_"
   },
   "outputs": [],
   "source": [
    "import joblib #수정해야함\n",
    "\n",
    "# 모델 저장\n",
    "joblib.dump(nb_grid, 'C:/Users/DSSAL/Downloads/Fintech_Bitcoin/220401_meeting_ver/Bitcoin_result_revision/nb_bitcoin_sent.pkl')\n",
    "\n",
    "# 모델 불러오기\n",
    "nb_model = joblib.load('C:/Users/DSSAL/Downloads/Fintech_Bitcoin/220401_meeting_ver/Bitcoin_result_revision/nb_bitcoin_sent.pkl')"
   ]
  },
  {
   "cell_type": "code",
   "execution_count": 45,
   "metadata": {
    "colab": {
     "base_uri": "https://localhost:8080/"
    },
    "executionInfo": {
     "elapsed": 23,
     "status": "ok",
     "timestamp": 1637215757037,
     "user": {
      "displayName": "성균관대학교이해인",
      "photoUrl": "https://lh3.googleusercontent.com/a/default-user=s64",
      "userId": "18353716469576030948"
     },
     "user_tz": -540
    },
    "id": "EC8pWmBs60UM",
    "outputId": "eaa41ec0-e469-4caa-89bb-f4dbdb23cab7"
   },
   "outputs": [
    {
     "data": {
      "text/plain": [
       "GridSearchCV(cv=5, estimator=MultinomialNB(), n_jobs=-1,\n",
       "             param_grid={'alpha': [0.01, 0.1, 0.5, 1.0, 10.0]}, verbose=5)"
      ]
     },
     "execution_count": 45,
     "metadata": {},
     "output_type": "execute_result"
    }
   ],
   "source": [
    "nb_model"
   ]
  },
  {
   "cell_type": "code",
   "execution_count": 46,
   "metadata": {
    "colab": {
     "base_uri": "https://localhost:8080/"
    },
    "executionInfo": {
     "elapsed": 1632,
     "status": "ok",
     "timestamp": 1637215759033,
     "user": {
      "displayName": "성균관대학교이해인",
      "photoUrl": "https://lh3.googleusercontent.com/a/default-user=s64",
      "userId": "18353716469576030948"
     },
     "user_tz": -540
    },
    "id": "EFIvcC2160WA",
    "outputId": "b75e5d02-f313-469b-8c94-cbc4a255f7d9"
   },
   "outputs": [
    {
     "data": {
      "text/plain": [
       "0.5805471124620061"
      ]
     },
     "execution_count": 46,
     "metadata": {},
     "output_type": "execute_result"
    }
   ],
   "source": [
    "from sklearn.metrics import accuracy_score, confusion_matrix, classification_report\n",
    "\n",
    "y_pred = nb_model.predict(x_test)\n",
    "predictions = [value for value in y_pred]\n",
    "\n",
    "accuracy_score(y_test, predictions)"
   ]
  },
  {
   "cell_type": "code",
   "execution_count": 47,
   "metadata": {
    "colab": {
     "base_uri": "https://localhost:8080/",
     "height": 204
    },
    "executionInfo": {
     "elapsed": 17,
     "status": "ok",
     "timestamp": 1637215759034,
     "user": {
      "displayName": "성균관대학교이해인",
      "photoUrl": "https://lh3.googleusercontent.com/a/default-user=s64",
      "userId": "18353716469576030948"
     },
     "user_tz": -540
    },
    "id": "TyOpTcFI1bdz",
    "outputId": "60a8d2a1-6e53-4817-bb89-288a07453b93"
   },
   "outputs": [
    {
     "data": {
      "text/html": [
       "<div>\n",
       "<style scoped>\n",
       "    .dataframe tbody tr th:only-of-type {\n",
       "        vertical-align: middle;\n",
       "    }\n",
       "\n",
       "    .dataframe tbody tr th {\n",
       "        vertical-align: top;\n",
       "    }\n",
       "\n",
       "    .dataframe thead th {\n",
       "        text-align: right;\n",
       "    }\n",
       "</style>\n",
       "<table border=\"1\" class=\"dataframe\">\n",
       "  <thead>\n",
       "    <tr style=\"text-align: right;\">\n",
       "      <th></th>\n",
       "      <th>precision</th>\n",
       "      <th>recall</th>\n",
       "      <th>f1-score</th>\n",
       "      <th>support</th>\n",
       "    </tr>\n",
       "  </thead>\n",
       "  <tbody>\n",
       "    <tr>\n",
       "      <th>class(0)</th>\n",
       "      <td>0.552083</td>\n",
       "      <td>0.946429</td>\n",
       "      <td>0.697368</td>\n",
       "      <td>168.000000</td>\n",
       "    </tr>\n",
       "    <tr>\n",
       "      <th>class(1)</th>\n",
       "      <td>0.780488</td>\n",
       "      <td>0.198758</td>\n",
       "      <td>0.316832</td>\n",
       "      <td>161.000000</td>\n",
       "    </tr>\n",
       "    <tr>\n",
       "      <th>accuracy</th>\n",
       "      <td>0.580547</td>\n",
       "      <td>0.580547</td>\n",
       "      <td>0.580547</td>\n",
       "      <td>0.580547</td>\n",
       "    </tr>\n",
       "    <tr>\n",
       "      <th>macro avg</th>\n",
       "      <td>0.666286</td>\n",
       "      <td>0.572593</td>\n",
       "      <td>0.507100</td>\n",
       "      <td>329.000000</td>\n",
       "    </tr>\n",
       "    <tr>\n",
       "      <th>weighted avg</th>\n",
       "      <td>0.663856</td>\n",
       "      <td>0.580547</td>\n",
       "      <td>0.511148</td>\n",
       "      <td>329.000000</td>\n",
       "    </tr>\n",
       "  </tbody>\n",
       "</table>\n",
       "</div>"
      ],
      "text/plain": [
       "              precision    recall  f1-score     support\n",
       "class(0)       0.552083  0.946429  0.697368  168.000000\n",
       "class(1)       0.780488  0.198758  0.316832  161.000000\n",
       "accuracy       0.580547  0.580547  0.580547    0.580547\n",
       "macro avg      0.666286  0.572593  0.507100  329.000000\n",
       "weighted avg   0.663856  0.580547  0.511148  329.000000"
      ]
     },
     "execution_count": 47,
     "metadata": {},
     "output_type": "execute_result"
    }
   ],
   "source": [
    "from sklearn.metrics import classification_report\n",
    "\n",
    "report = classification_report(y_test, y_pred, target_names=['class(0)', 'class(1)'], output_dict=True)\n",
    "df = pd.DataFrame(report).transpose()\n",
    "\n",
    "df"
   ]
  },
  {
   "cell_type": "code",
   "execution_count": 48,
   "metadata": {},
   "outputs": [
    {
     "data": {
      "text/plain": [
       "array([0.38964255, 0.39000779, 0.23077717, 0.29861264, 0.35093168,\n",
       "       0.26506257, 0.2317897 , 0.32182027, 0.32803707, 0.32623548,\n",
       "       0.32441185, 0.20386252, 0.20950307, 0.20876134, 0.21186666,\n",
       "       0.24410449, 0.22446581, 0.2303373 , 0.23871246, 0.25721399,\n",
       "       0.26170935, 0.42777991, 0.42666678, 0.42148218, 0.38710729,\n",
       "       0.41590423, 0.4113639 , 0.35093434, 0.36421343, 0.23813819,\n",
       "       0.36982569, 0.352624  , 0.4031974 , 0.40526622, 0.34150062,\n",
       "       0.23130472, 0.27016974, 0.23640845, 0.24625217, 0.26883668,\n",
       "       0.26819762, 0.27278667, 0.28021419, 0.29320883, 0.28334205,\n",
       "       0.47463357, 0.43640954, 0.4612706 , 0.40462546, 0.52174209,\n",
       "       0.52276729, 0.53067319, 0.51424167, 0.34930616, 0.35164782,\n",
       "       0.44447482, 0.55092201, 0.53217998, 0.55328223, 0.54192828,\n",
       "       0.41411306, 0.34615347, 0.37227064, 0.35437938, 0.35949618,\n",
       "       0.54352797, 0.51472699, 0.53889534, 0.46993254, 0.52549262,\n",
       "       0.51598952, 0.49739338, 0.42709145, 0.31145   , 0.32058626,\n",
       "       0.32792953, 0.34068831, 0.33606618, 0.39560027, 0.49668542,\n",
       "       0.54100065, 0.40923156, 0.4140391 , 0.53230266, 0.52293441,\n",
       "       0.53086249, 0.48789174, 0.33512583, 0.361478  , 0.46034231,\n",
       "       0.53255146, 0.37706449, 0.41313666, 0.36562446, 0.33830805,\n",
       "       0.50773175, 0.465203  , 0.53434066, 0.39848517, 0.34174346,\n",
       "       0.35453009, 0.33065216, 0.34311722, 0.37439885, 0.43377349,\n",
       "       0.35103111, 0.34961642, 0.53751903, 0.53589102, 0.53355857,\n",
       "       0.52166252, 0.51028012, 0.48298023, 0.47925364, 0.47846799,\n",
       "       0.47617882, 0.47126705, 0.34824604, 0.27803243, 0.27381836,\n",
       "       0.2743502 , 0.32628813, 0.44057696, 0.44581549, 0.4359634 ,\n",
       "       0.35567966, 0.40727768, 0.29054657, 0.27582041, 0.22155352,\n",
       "       0.35040974, 0.31038446, 0.30072826, 0.2187659 , 0.22487646,\n",
       "       0.23633105, 0.3222499 , 0.39500889, 0.36724427, 0.37267855,\n",
       "       0.36277189, 0.22667731, 0.28892598, 0.23738886, 0.30693157,\n",
       "       0.3416188 , 0.32916916, 0.24515591, 0.25116381, 0.36683027,\n",
       "       0.4110645 , 0.41845325, 0.40908778, 0.4095037 , 0.39938925,\n",
       "       0.23668089, 0.24405492, 0.25463455, 0.25658092, 0.30369916,\n",
       "       0.44914034, 0.31576412, 0.45183705, 0.44328693, 0.41957579,\n",
       "       0.38925818, 0.440236  , 0.26992586, 0.27602893, 0.28539022,\n",
       "       0.37352387, 0.43686952, 0.4192221 , 0.41667763, 0.36056483,\n",
       "       0.30077824, 0.30427594, 0.37066984, 0.49290857, 0.48320655,\n",
       "       0.44613271, 0.45594761, 0.4515983 , 0.44267193, 0.4246127 ,\n",
       "       0.34517789, 0.32974333, 0.31752108, 0.26354115, 0.38672334,\n",
       "       0.23319603, 0.28740721, 0.27644736, 0.36553155, 0.30782814,\n",
       "       0.30981629, 0.32236433, 0.34746029, 0.3377044 , 0.1927173 ,\n",
       "       0.19439606, 0.20734207, 0.20360536, 0.33372447, 0.20497799,\n",
       "       0.20619226, 0.25221332, 0.29193508, 0.33904012, 0.30703296,\n",
       "       0.20475537, 0.3488056 , 0.31812021, 0.20242188, 0.20300921,\n",
       "       0.23116943, 0.35343056, 0.35162808, 0.31834831, 0.19593015,\n",
       "       0.19769712, 0.20934883, 0.35686129, 0.20685187, 0.21291829,\n",
       "       0.21982585, 0.22169649, 0.26112762, 0.40110277, 0.35112044,\n",
       "       0.25674095, 0.31981005, 0.30047911, 0.40584498, 0.25034197,\n",
       "       0.29754152, 0.40452348, 0.42408905, 0.39104658, 0.39521187,\n",
       "       0.24748622, 0.25054325, 0.25317121, 0.2762415 , 0.32474983,\n",
       "       0.375939  , 0.44668028, 0.2873197 , 0.2898105 , 0.47428417,\n",
       "       0.48050316, 0.3685342 , 0.4602984 , 0.48340007, 0.41267322,\n",
       "       0.34255341, 0.38237382, 0.37306849, 0.49207919, 0.48827908,\n",
       "       0.46356054, 0.46994908, 0.46711598, 0.42310973, 0.45772576,\n",
       "       0.39578267, 0.28083478, 0.28049204, 0.31852393, 0.2965486 ,\n",
       "       0.47804091, 0.43846834, 0.3585104 , 0.30796312, 0.2936614 ,\n",
       "       0.30231638, 0.30546577, 0.32395466, 0.3864814 , 0.40333117,\n",
       "       0.50491923, 0.49686318, 0.42116686, 0.46454656, 0.44210246,\n",
       "       0.42128777, 0.31391856, 0.36365928, 0.31526486, 0.31781953,\n",
       "       0.32058027, 0.32935547, 0.42154665, 0.48615819, 0.54217919,\n",
       "       0.53569897, 0.53948368, 0.53465281, 0.52808539, 0.50582555,\n",
       "       0.5230869 , 0.51916824, 0.33512055, 0.39817182, 0.51462174,\n",
       "       0.51011928, 0.50946879, 0.49284133, 0.48405965, 0.48122281,\n",
       "       0.33813443, 0.29891397, 0.30194418, 0.30424544, 0.36060712,\n",
       "       0.48599289, 0.41310908, 0.3000918 , 0.30260549, 0.31138092,\n",
       "       0.31595459, 0.32486852, 0.43978749, 0.38470067, 0.52382373,\n",
       "       0.52264682, 0.51075225, 0.40039573, 0.50382349])"
      ]
     },
     "execution_count": 48,
     "metadata": {},
     "output_type": "execute_result"
    }
   ],
   "source": [
    "from sklearn.metrics import roc_curve\n",
    "\n",
    "# 레이블 값이 1일 때 예측 확률 추출\n",
    "nb_pred_proba_class_1 = nb_model.predict_proba(x_test)[:,1]\n",
    "nb_pred_proba_class_1"
   ]
  },
  {
   "cell_type": "code",
   "execution_count": 49,
   "metadata": {},
   "outputs": [
    {
     "data": {
      "text/html": [
       "<div>\n",
       "<style scoped>\n",
       "    .dataframe tbody tr th:only-of-type {\n",
       "        vertical-align: middle;\n",
       "    }\n",
       "\n",
       "    .dataframe tbody tr th {\n",
       "        vertical-align: top;\n",
       "    }\n",
       "\n",
       "    .dataframe thead th {\n",
       "        text-align: right;\n",
       "    }\n",
       "</style>\n",
       "<table border=\"1\" class=\"dataframe\">\n",
       "  <thead>\n",
       "    <tr style=\"text-align: right;\">\n",
       "      <th></th>\n",
       "      <th>index</th>\n",
       "      <th>FPR</th>\n",
       "      <th>TPR</th>\n",
       "    </tr>\n",
       "  </thead>\n",
       "  <tbody>\n",
       "    <tr>\n",
       "      <th>0</th>\n",
       "      <td>1</td>\n",
       "      <td>0.000000</td>\n",
       "      <td>0.006211</td>\n",
       "    </tr>\n",
       "    <tr>\n",
       "      <th>1</th>\n",
       "      <td>2</td>\n",
       "      <td>0.000000</td>\n",
       "      <td>0.062112</td>\n",
       "    </tr>\n",
       "    <tr>\n",
       "      <th>2</th>\n",
       "      <td>3</td>\n",
       "      <td>0.005952</td>\n",
       "      <td>0.062112</td>\n",
       "    </tr>\n",
       "    <tr>\n",
       "      <th>3</th>\n",
       "      <td>4</td>\n",
       "      <td>0.005952</td>\n",
       "      <td>0.093168</td>\n",
       "    </tr>\n",
       "    <tr>\n",
       "      <th>4</th>\n",
       "      <td>5</td>\n",
       "      <td>0.011905</td>\n",
       "      <td>0.093168</td>\n",
       "    </tr>\n",
       "    <tr>\n",
       "      <th>...</th>\n",
       "      <td>...</td>\n",
       "      <td>...</td>\n",
       "      <td>...</td>\n",
       "    </tr>\n",
       "    <tr>\n",
       "      <th>138</th>\n",
       "      <td>139</td>\n",
       "      <td>0.922619</td>\n",
       "      <td>0.987578</td>\n",
       "    </tr>\n",
       "    <tr>\n",
       "      <th>139</th>\n",
       "      <td>140</td>\n",
       "      <td>0.922619</td>\n",
       "      <td>0.993789</td>\n",
       "    </tr>\n",
       "    <tr>\n",
       "      <th>140</th>\n",
       "      <td>141</td>\n",
       "      <td>0.928571</td>\n",
       "      <td>0.993789</td>\n",
       "    </tr>\n",
       "    <tr>\n",
       "      <th>141</th>\n",
       "      <td>142</td>\n",
       "      <td>0.928571</td>\n",
       "      <td>1.000000</td>\n",
       "    </tr>\n",
       "    <tr>\n",
       "      <th>142</th>\n",
       "      <td>143</td>\n",
       "      <td>1.000000</td>\n",
       "      <td>1.000000</td>\n",
       "    </tr>\n",
       "  </tbody>\n",
       "</table>\n",
       "<p>143 rows × 3 columns</p>\n",
       "</div>"
      ],
      "text/plain": [
       "     index       FPR       TPR\n",
       "0        1  0.000000  0.006211\n",
       "1        2  0.000000  0.062112\n",
       "2        3  0.005952  0.062112\n",
       "3        4  0.005952  0.093168\n",
       "4        5  0.011905  0.093168\n",
       "..     ...       ...       ...\n",
       "138    139  0.922619  0.987578\n",
       "139    140  0.922619  0.993789\n",
       "140    141  0.928571  0.993789\n",
       "141    142  0.928571  1.000000\n",
       "142    143  1.000000  1.000000\n",
       "\n",
       "[143 rows x 3 columns]"
      ]
     },
     "execution_count": 49,
     "metadata": {},
     "output_type": "execute_result"
    }
   ],
   "source": [
    "fprs, tprs, thresholds = roc_curve(y_test, nb_pred_proba_class_1)\n",
    "\n",
    "# 반환된 임곗값 배열에서 샘플로 데이터 추출\n",
    "# thresholds[0]은 max(예측확률)+1 값이 임의로 지정됨.\n",
    "\n",
    "thr_index = np.arange(1, thresholds.shape[0])\n",
    "\n",
    "pd.DataFrame({'index':thr_index,\n",
    "             'FPR':fprs[thr_index],\n",
    "             'TPR':tprs[thr_index]})"
   ]
  },
  {
   "cell_type": "code",
   "execution_count": 50,
   "metadata": {},
   "outputs": [],
   "source": [
    "import matplotlib.pyplot as plt\n",
    "\n",
    "def roc_curve_plot(y_test, pred_proba_c1):\n",
    "    # 임계값에 따른 FPR, TPR 값\n",
    "    fprs, tprs, thresholds = roc_curve(y_test, pred_proba_c1)\n",
    "    # ROC 곡선을 시각화\n",
    "    plt.plot(fprs, tprs, label='ROC')\n",
    "    # 가운데 대각선 직선\n",
    "    plt.plot([0,1],[0,1], 'k--',label='Random')\n",
    "    \n",
    "    # FPR X 축의 scla 0.1 단위 지정\n",
    "    start, end = plt.xlim()\n",
    "    plt.xticks(np.round(np.arange(start, end, 0.1), 2))\n",
    "    plt.xlim(0, 1)\n",
    "    plt.ylim(0, 1)\n",
    "    plt.xlabel('FPR( 1 - Snesitivity )')\n",
    "    plt.ylabel('TPR( Recall )')\n",
    "    plt.legend()"
   ]
  },
  {
   "cell_type": "code",
   "execution_count": 51,
   "metadata": {},
   "outputs": [
    {
     "data": {
      "image/png": "[encoded data removed]",
      "text/plain": [
       "<Figure size 432x288 with 1 Axes>"
      ]
     },
     "metadata": {
      "needs_background": "light"
     },
     "output_type": "display_data"
    }
   ],
   "source": [
    "from sklearn.metrics import roc_curve\n",
    "\n",
    "roc_curve_plot(y_test, nb_pred_proba_class_1)"
   ]
  },
  {
   "cell_type": "code",
   "execution_count": 52,
   "metadata": {
    "scrolled": true
   },
   "outputs": [
    {
     "name": "stdout",
     "output_type": "stream",
     "text": [
      "ROC AUC Score:  0.7554347826086956\n"
     ]
    }
   ],
   "source": [
    "from sklearn.metrics import roc_auc_score\n",
    "\n",
    "pred_proba = nb_model.predict_proba(x_test)[:, 1]\n",
    "roc_score = roc_auc_score(y_test, pred_proba)\n",
    "print('ROC AUC Score: ', roc_score)"
   ]
  },
  {
   "cell_type": "code",
   "execution_count": null,
   "metadata": {},
   "outputs": [],
   "source": []
  },
  {
   "cell_type": "code",
   "execution_count": null,
   "metadata": {},
   "outputs": [],
   "source": []
  }
 ],
 "metadata": {
  "accelerator": "GPU",
  "colab": {
   "collapsed_sections": [],
   "name": "Random Forest with bow.ipynb",
   "provenance": []
  },
  "kernelspec": {
   "display_name": "Python 3",
   "language": "python",
   "name": "python3"
  },
  "language_info": {
   "codemirror_mode": {
    "name": "ipython",
    "version": 3
   },
   "file_extension": ".py",
   "mimetype": "text/x-python",
   "name": "python",
   "nbconvert_exporter": "python",
   "pygments_lexer": "ipython3",
   "version": "3.7.6"
  }
 },
 "nbformat": 4,
 "nbformat_minor": 1
}
