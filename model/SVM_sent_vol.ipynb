{
 "cells": [
  {
   "cell_type": "markdown",
   "metadata": {},
   "source": [
    "# For train, validation data"
   ]
  },
  {
   "cell_type": "code",
   "execution_count": 28,
   "metadata": {
    "executionInfo": {
     "elapsed": 926,
     "status": "ok",
     "timestamp": 1641357608214,
     "user": {
      "displayName": "성균관대학교이해인",
      "photoUrl": "https://lh3.googleusercontent.com/a/default-user=s64",
      "userId": "18353716469576030948"
     },
     "user_tz": -540
    },
    "id": "Si36AfexOoKl"
   },
   "outputs": [],
   "source": [
    "import os\n",
    "\n",
    "import pandas as pd\n",
    "import numpy as np\n",
    "\n",
    "from sklearn.feature_extraction.text import CountVectorizer\n",
    "from sklearn.model_selection import train_test_split\n",
    "from sklearn.ensemble import BaggingClassifier\n",
    "\n",
    "import sklearn\n",
    "from sklearn.utils import shuffle\n",
    "from sklearn.metrics import accuracy_score\n",
    "from sklearn import metrics\n",
    "import seaborn as sns\n",
    "import matplotlib.pyplot as plt\n",
    "%matplotlib inline"
   ]
  },
  {
   "cell_type": "code",
   "execution_count": 29,
   "metadata": {},
   "outputs": [],
   "source": [
    "x_train = pd.read_csv('C:/Users/DSSAL/Downloads/Fintech_Bitcoin/220401_meeting_ver/DATA_Bitcoin_ML/x_train_220819.csv', index_col = 0)"
   ]
  },
  {
   "cell_type": "code",
   "execution_count": 30,
   "metadata": {},
   "outputs": [],
   "source": [
    "y_train = pd.read_csv('C:/Users/DSSAL/Downloads/Fintech_Bitcoin/220401_meeting_ver/DATA_Bitcoin_ML/y_train_220819.csv',index_col=0)"
   ]
  },
  {
   "cell_type": "code",
   "execution_count": 31,
   "metadata": {},
   "outputs": [
    {
     "data": {
      "text/html": [
       "<div>\n",
       "<style scoped>\n",
       "    .dataframe tbody tr th:only-of-type {\n",
       "        vertical-align: middle;\n",
       "    }\n",
       "\n",
       "    .dataframe tbody tr th {\n",
       "        vertical-align: top;\n",
       "    }\n",
       "\n",
       "    .dataframe thead th {\n",
       "        text-align: right;\n",
       "    }\n",
       "</style>\n",
       "<table border=\"1\" class=\"dataframe\">\n",
       "  <thead>\n",
       "    <tr style=\"text-align: right;\">\n",
       "      <th></th>\n",
       "      <th>Volume_total</th>\n",
       "      <th>sentiment_index_total</th>\n",
       "      <th>High</th>\n",
       "      <th>Low</th>\n",
       "      <th>Vol</th>\n",
       "      <th>RSI</th>\n",
       "      <th>SMA_5</th>\n",
       "      <th>SMA_20</th>\n",
       "      <th>SMA_60</th>\n",
       "      <th>EMA</th>\n",
       "      <th>MACD</th>\n",
       "      <th>signal</th>\n",
       "      <th>Stochastic RSI_fastk</th>\n",
       "      <th>Stochastic RSI_fastd</th>\n",
       "      <th>Stochastic Oscillator Index_slowk</th>\n",
       "      <th>Stochastic Oscillator Index_slowd</th>\n",
       "    </tr>\n",
       "  </thead>\n",
       "  <tbody>\n",
       "    <tr>\n",
       "      <th>0</th>\n",
       "      <td>0.163978</td>\n",
       "      <td>0.020681</td>\n",
       "      <td>0.002918</td>\n",
       "      <td>0.000000</td>\n",
       "      <td>0.005610</td>\n",
       "      <td>0.509235</td>\n",
       "      <td>0.268272</td>\n",
       "      <td>0.267705</td>\n",
       "      <td>0.300468</td>\n",
       "      <td>0.273505</td>\n",
       "      <td>0.237320</td>\n",
       "      <td>0.242923</td>\n",
       "      <td>0.518424</td>\n",
       "      <td>0.519260</td>\n",
       "      <td>0.538468</td>\n",
       "      <td>0.543101</td>\n",
       "    </tr>\n",
       "    <tr>\n",
       "      <th>1</th>\n",
       "      <td>0.149226</td>\n",
       "      <td>0.135777</td>\n",
       "      <td>0.000000</td>\n",
       "      <td>0.000165</td>\n",
       "      <td>0.003568</td>\n",
       "      <td>0.509235</td>\n",
       "      <td>0.268272</td>\n",
       "      <td>0.267705</td>\n",
       "      <td>0.300468</td>\n",
       "      <td>0.273505</td>\n",
       "      <td>0.237320</td>\n",
       "      <td>0.242923</td>\n",
       "      <td>0.518424</td>\n",
       "      <td>0.519260</td>\n",
       "      <td>0.538468</td>\n",
       "      <td>0.543101</td>\n",
       "    </tr>\n",
       "    <tr>\n",
       "      <th>2</th>\n",
       "      <td>0.124000</td>\n",
       "      <td>0.198136</td>\n",
       "      <td>0.000832</td>\n",
       "      <td>0.001027</td>\n",
       "      <td>0.002891</td>\n",
       "      <td>0.509235</td>\n",
       "      <td>0.268272</td>\n",
       "      <td>0.267705</td>\n",
       "      <td>0.300468</td>\n",
       "      <td>0.273505</td>\n",
       "      <td>0.237320</td>\n",
       "      <td>0.242923</td>\n",
       "      <td>0.518424</td>\n",
       "      <td>0.519260</td>\n",
       "      <td>0.538468</td>\n",
       "      <td>0.543101</td>\n",
       "    </tr>\n",
       "    <tr>\n",
       "      <th>3</th>\n",
       "      <td>0.121332</td>\n",
       "      <td>0.174798</td>\n",
       "      <td>0.002015</td>\n",
       "      <td>0.002124</td>\n",
       "      <td>0.002923</td>\n",
       "      <td>0.509235</td>\n",
       "      <td>0.268272</td>\n",
       "      <td>0.267705</td>\n",
       "      <td>0.300468</td>\n",
       "      <td>0.273505</td>\n",
       "      <td>0.237320</td>\n",
       "      <td>0.242923</td>\n",
       "      <td>0.518424</td>\n",
       "      <td>0.519260</td>\n",
       "      <td>0.538468</td>\n",
       "      <td>0.543101</td>\n",
       "    </tr>\n",
       "    <tr>\n",
       "      <th>4</th>\n",
       "      <td>0.136120</td>\n",
       "      <td>0.122199</td>\n",
       "      <td>0.009661</td>\n",
       "      <td>0.003831</td>\n",
       "      <td>0.007399</td>\n",
       "      <td>0.509235</td>\n",
       "      <td>0.000000</td>\n",
       "      <td>0.267705</td>\n",
       "      <td>0.300468</td>\n",
       "      <td>0.273505</td>\n",
       "      <td>0.237320</td>\n",
       "      <td>0.242923</td>\n",
       "      <td>0.518424</td>\n",
       "      <td>0.519260</td>\n",
       "      <td>0.538468</td>\n",
       "      <td>0.543101</td>\n",
       "    </tr>\n",
       "    <tr>\n",
       "      <th>...</th>\n",
       "      <td>...</td>\n",
       "      <td>...</td>\n",
       "      <td>...</td>\n",
       "      <td>...</td>\n",
       "      <td>...</td>\n",
       "      <td>...</td>\n",
       "      <td>...</td>\n",
       "      <td>...</td>\n",
       "      <td>...</td>\n",
       "      <td>...</td>\n",
       "      <td>...</td>\n",
       "      <td>...</td>\n",
       "      <td>...</td>\n",
       "      <td>...</td>\n",
       "      <td>...</td>\n",
       "      <td>...</td>\n",
       "    </tr>\n",
       "    <tr>\n",
       "      <th>1311</th>\n",
       "      <td>0.113974</td>\n",
       "      <td>0.259076</td>\n",
       "      <td>0.910801</td>\n",
       "      <td>0.909599</td>\n",
       "      <td>0.003176</td>\n",
       "      <td>0.529008</td>\n",
       "      <td>0.917457</td>\n",
       "      <td>0.990534</td>\n",
       "      <td>0.964958</td>\n",
       "      <td>0.969428</td>\n",
       "      <td>0.364338</td>\n",
       "      <td>0.513688</td>\n",
       "      <td>1.000000</td>\n",
       "      <td>0.666667</td>\n",
       "      <td>0.476249</td>\n",
       "      <td>0.245136</td>\n",
       "    </tr>\n",
       "    <tr>\n",
       "      <th>1312</th>\n",
       "      <td>0.536890</td>\n",
       "      <td>0.253461</td>\n",
       "      <td>0.910345</td>\n",
       "      <td>0.922018</td>\n",
       "      <td>0.002427</td>\n",
       "      <td>0.526038</td>\n",
       "      <td>0.922188</td>\n",
       "      <td>0.993780</td>\n",
       "      <td>0.973975</td>\n",
       "      <td>0.972004</td>\n",
       "      <td>0.361761</td>\n",
       "      <td>0.488486</td>\n",
       "      <td>0.976137</td>\n",
       "      <td>0.992046</td>\n",
       "      <td>0.726398</td>\n",
       "      <td>0.471750</td>\n",
       "    </tr>\n",
       "    <tr>\n",
       "      <th>1313</th>\n",
       "      <td>0.549279</td>\n",
       "      <td>0.251991</td>\n",
       "      <td>0.942340</td>\n",
       "      <td>0.926266</td>\n",
       "      <td>0.004857</td>\n",
       "      <td>0.572567</td>\n",
       "      <td>0.941255</td>\n",
       "      <td>0.996351</td>\n",
       "      <td>0.982595</td>\n",
       "      <td>0.980400</td>\n",
       "      <td>0.380129</td>\n",
       "      <td>0.472593</td>\n",
       "      <td>1.000000</td>\n",
       "      <td>0.992046</td>\n",
       "      <td>0.844886</td>\n",
       "      <td>0.692859</td>\n",
       "    </tr>\n",
       "    <tr>\n",
       "      <th>1314</th>\n",
       "      <td>0.520025</td>\n",
       "      <td>0.248470</td>\n",
       "      <td>0.958848</td>\n",
       "      <td>0.963925</td>\n",
       "      <td>0.003785</td>\n",
       "      <td>0.599612</td>\n",
       "      <td>0.968100</td>\n",
       "      <td>0.999094</td>\n",
       "      <td>0.991295</td>\n",
       "      <td>0.991194</td>\n",
       "      <td>0.406410</td>\n",
       "      <td>0.465986</td>\n",
       "      <td>1.000000</td>\n",
       "      <td>0.992046</td>\n",
       "      <td>0.888953</td>\n",
       "      <td>0.836160</td>\n",
       "    </tr>\n",
       "    <tr>\n",
       "      <th>1315</th>\n",
       "      <td>0.556387</td>\n",
       "      <td>0.207858</td>\n",
       "      <td>0.966111</td>\n",
       "      <td>0.962410</td>\n",
       "      <td>0.004370</td>\n",
       "      <td>0.599336</td>\n",
       "      <td>0.981533</td>\n",
       "      <td>1.000000</td>\n",
       "      <td>1.000000</td>\n",
       "      <td>1.000000</td>\n",
       "      <td>0.424746</td>\n",
       "      <td>0.464961</td>\n",
       "      <td>0.996238</td>\n",
       "      <td>0.998746</td>\n",
       "      <td>0.900064</td>\n",
       "      <td>0.896462</td>\n",
       "    </tr>\n",
       "  </tbody>\n",
       "</table>\n",
       "<p>1316 rows × 16 columns</p>\n",
       "</div>"
      ],
      "text/plain": [
       "      Volume_total  sentiment_index_total      High       Low       Vol  \\\n",
       "0         0.163978               0.020681  0.002918  0.000000  0.005610   \n",
       "1         0.149226               0.135777  0.000000  0.000165  0.003568   \n",
       "2         0.124000               0.198136  0.000832  0.001027  0.002891   \n",
       "3         0.121332               0.174798  0.002015  0.002124  0.002923   \n",
       "4         0.136120               0.122199  0.009661  0.003831  0.007399   \n",
       "...            ...                    ...       ...       ...       ...   \n",
       "1311      0.113974               0.259076  0.910801  0.909599  0.003176   \n",
       "1312      0.536890               0.253461  0.910345  0.922018  0.002427   \n",
       "1313      0.549279               0.251991  0.942340  0.926266  0.004857   \n",
       "1314      0.520025               0.248470  0.958848  0.963925  0.003785   \n",
       "1315      0.556387               0.207858  0.966111  0.962410  0.004370   \n",
       "\n",
       "           RSI     SMA_5    SMA_20    SMA_60       EMA      MACD    signal  \\\n",
       "0     0.509235  0.268272  0.267705  0.300468  0.273505  0.237320  0.242923   \n",
       "1     0.509235  0.268272  0.267705  0.300468  0.273505  0.237320  0.242923   \n",
       "2     0.509235  0.268272  0.267705  0.300468  0.273505  0.237320  0.242923   \n",
       "3     0.509235  0.268272  0.267705  0.300468  0.273505  0.237320  0.242923   \n",
       "4     0.509235  0.000000  0.267705  0.300468  0.273505  0.237320  0.242923   \n",
       "...        ...       ...       ...       ...       ...       ...       ...   \n",
       "1311  0.529008  0.917457  0.990534  0.964958  0.969428  0.364338  0.513688   \n",
       "1312  0.526038  0.922188  0.993780  0.973975  0.972004  0.361761  0.488486   \n",
       "1313  0.572567  0.941255  0.996351  0.982595  0.980400  0.380129  0.472593   \n",
       "1314  0.599612  0.968100  0.999094  0.991295  0.991194  0.406410  0.465986   \n",
       "1315  0.599336  0.981533  1.000000  1.000000  1.000000  0.424746  0.464961   \n",
       "\n",
       "      Stochastic RSI_fastk  Stochastic RSI_fastd  \\\n",
       "0                 0.518424              0.519260   \n",
       "1                 0.518424              0.519260   \n",
       "2                 0.518424              0.519260   \n",
       "3                 0.518424              0.519260   \n",
       "4                 0.518424              0.519260   \n",
       "...                    ...                   ...   \n",
       "1311              1.000000              0.666667   \n",
       "1312              0.976137              0.992046   \n",
       "1313              1.000000              0.992046   \n",
       "1314              1.000000              0.992046   \n",
       "1315              0.996238              0.998746   \n",
       "\n",
       "      Stochastic Oscillator Index_slowk  Stochastic Oscillator Index_slowd  \n",
       "0                              0.538468                           0.543101  \n",
       "1                              0.538468                           0.543101  \n",
       "2                              0.538468                           0.543101  \n",
       "3                              0.538468                           0.543101  \n",
       "4                              0.538468                           0.543101  \n",
       "...                                 ...                                ...  \n",
       "1311                           0.476249                           0.245136  \n",
       "1312                           0.726398                           0.471750  \n",
       "1313                           0.844886                           0.692859  \n",
       "1314                           0.888953                           0.836160  \n",
       "1315                           0.900064                           0.896462  \n",
       "\n",
       "[1316 rows x 16 columns]"
      ]
     },
     "execution_count": 31,
     "metadata": {},
     "output_type": "execute_result"
    }
   ],
   "source": [
    "x_train"
   ]
  },
  {
   "cell_type": "markdown",
   "metadata": {},
   "source": [
    "# For test data"
   ]
  },
  {
   "cell_type": "code",
   "execution_count": 32,
   "metadata": {},
   "outputs": [
    {
     "data": {
      "text/html": [
       "<div>\n",
       "<style scoped>\n",
       "    .dataframe tbody tr th:only-of-type {\n",
       "        vertical-align: middle;\n",
       "    }\n",
       "\n",
       "    .dataframe tbody tr th {\n",
       "        vertical-align: top;\n",
       "    }\n",
       "\n",
       "    .dataframe thead th {\n",
       "        text-align: right;\n",
       "    }\n",
       "</style>\n",
       "<table border=\"1\" class=\"dataframe\">\n",
       "  <thead>\n",
       "    <tr style=\"text-align: right;\">\n",
       "      <th></th>\n",
       "      <th>Volume_total</th>\n",
       "      <th>sentiment_index_total</th>\n",
       "      <th>High</th>\n",
       "      <th>Low</th>\n",
       "      <th>Vol</th>\n",
       "      <th>RSI</th>\n",
       "      <th>SMA_5</th>\n",
       "      <th>SMA_20</th>\n",
       "      <th>SMA_60</th>\n",
       "      <th>EMA</th>\n",
       "      <th>MACD</th>\n",
       "      <th>signal</th>\n",
       "      <th>Stochastic RSI_fastk</th>\n",
       "      <th>Stochastic RSI_fastd</th>\n",
       "      <th>Stochastic Oscillator Index_slowk</th>\n",
       "      <th>Stochastic Oscillator Index_slowd</th>\n",
       "      <th>Fluctuations</th>\n",
       "    </tr>\n",
       "  </thead>\n",
       "  <tbody>\n",
       "    <tr>\n",
       "      <th>0</th>\n",
       "      <td>0.545000</td>\n",
       "      <td>0.195338</td>\n",
       "      <td>0.959518</td>\n",
       "      <td>0.980993</td>\n",
       "      <td>0.002937</td>\n",
       "      <td>0.597561</td>\n",
       "      <td>0.991824</td>\n",
       "      <td>1.001365</td>\n",
       "      <td>1.009106</td>\n",
       "      <td>1.007050</td>\n",
       "      <td>0.436198</td>\n",
       "      <td>0.466803</td>\n",
       "      <td>0.972114</td>\n",
       "      <td>0.989451</td>\n",
       "      <td>0.858229</td>\n",
       "      <td>0.901095</td>\n",
       "      <td>0</td>\n",
       "    </tr>\n",
       "    <tr>\n",
       "      <th>1</th>\n",
       "      <td>0.585140</td>\n",
       "      <td>0.239189</td>\n",
       "      <td>0.971860</td>\n",
       "      <td>0.988536</td>\n",
       "      <td>0.003102</td>\n",
       "      <td>0.604627</td>\n",
       "      <td>1.003399</td>\n",
       "      <td>0.999281</td>\n",
       "      <td>1.018160</td>\n",
       "      <td>1.013699</td>\n",
       "      <td>0.445752</td>\n",
       "      <td>0.470496</td>\n",
       "      <td>1.000000</td>\n",
       "      <td>0.989451</td>\n",
       "      <td>0.803497</td>\n",
       "      <td>0.871422</td>\n",
       "      <td>1</td>\n",
       "    </tr>\n",
       "    <tr>\n",
       "      <th>2</th>\n",
       "      <td>0.537338</td>\n",
       "      <td>0.261605</td>\n",
       "      <td>0.965686</td>\n",
       "      <td>0.960906</td>\n",
       "      <td>0.002922</td>\n",
       "      <td>0.527532</td>\n",
       "      <td>1.001395</td>\n",
       "      <td>0.997352</td>\n",
       "      <td>1.025831</td>\n",
       "      <td>1.012624</td>\n",
       "      <td>0.427793</td>\n",
       "      <td>0.469277</td>\n",
       "      <td>0.000000</td>\n",
       "      <td>0.657371</td>\n",
       "      <td>0.519993</td>\n",
       "      <td>0.739452</td>\n",
       "      <td>0</td>\n",
       "    </tr>\n",
       "    <tr>\n",
       "      <th>3</th>\n",
       "      <td>0.498165</td>\n",
       "      <td>0.284602</td>\n",
       "      <td>0.943563</td>\n",
       "      <td>0.953181</td>\n",
       "      <td>0.002353</td>\n",
       "      <td>0.562177</td>\n",
       "      <td>0.999335</td>\n",
       "      <td>0.999615</td>\n",
       "      <td>1.033139</td>\n",
       "      <td>1.015618</td>\n",
       "      <td>0.424889</td>\n",
       "      <td>0.467627</td>\n",
       "      <td>0.449382</td>\n",
       "      <td>0.483127</td>\n",
       "      <td>0.404208</td>\n",
       "      <td>0.581804</td>\n",
       "      <td>1</td>\n",
       "    </tr>\n",
       "    <tr>\n",
       "      <th>4</th>\n",
       "      <td>0.521225</td>\n",
       "      <td>0.240861</td>\n",
       "      <td>0.956106</td>\n",
       "      <td>0.959773</td>\n",
       "      <td>0.002201</td>\n",
       "      <td>0.585381</td>\n",
       "      <td>1.000163</td>\n",
       "      <td>1.001591</td>\n",
       "      <td>1.040965</td>\n",
       "      <td>1.020763</td>\n",
       "      <td>0.429689</td>\n",
       "      <td>0.467423</td>\n",
       "      <td>0.750362</td>\n",
       "      <td>0.399915</td>\n",
       "      <td>0.371906</td>\n",
       "      <td>0.431945</td>\n",
       "      <td>1</td>\n",
       "    </tr>\n",
       "    <tr>\n",
       "      <th>...</th>\n",
       "      <td>...</td>\n",
       "      <td>...</td>\n",
       "      <td>...</td>\n",
       "      <td>...</td>\n",
       "      <td>...</td>\n",
       "      <td>...</td>\n",
       "      <td>...</td>\n",
       "      <td>...</td>\n",
       "      <td>...</td>\n",
       "      <td>...</td>\n",
       "      <td>...</td>\n",
       "      <td>...</td>\n",
       "      <td>...</td>\n",
       "      <td>...</td>\n",
       "      <td>...</td>\n",
       "      <td>...</td>\n",
       "      <td>...</td>\n",
       "    </tr>\n",
       "    <tr>\n",
       "      <th>324</th>\n",
       "      <td>0.604923</td>\n",
       "      <td>-0.000763</td>\n",
       "      <td>0.619732</td>\n",
       "      <td>0.561479</td>\n",
       "      <td>0.008440</td>\n",
       "      <td>0.385186</td>\n",
       "      <td>0.629822</td>\n",
       "      <td>0.711181</td>\n",
       "      <td>0.809156</td>\n",
       "      <td>0.674852</td>\n",
       "      <td>0.091733</td>\n",
       "      <td>0.163752</td>\n",
       "      <td>1.000000</td>\n",
       "      <td>0.632657</td>\n",
       "      <td>0.406729</td>\n",
       "      <td>0.215167</td>\n",
       "      <td>1</td>\n",
       "    </tr>\n",
       "    <tr>\n",
       "      <th>325</th>\n",
       "      <td>0.362027</td>\n",
       "      <td>0.097440</td>\n",
       "      <td>0.625358</td>\n",
       "      <td>0.626757</td>\n",
       "      <td>0.003665</td>\n",
       "      <td>0.426774</td>\n",
       "      <td>0.632902</td>\n",
       "      <td>0.709112</td>\n",
       "      <td>0.805078</td>\n",
       "      <td>0.674742</td>\n",
       "      <td>0.097517</td>\n",
       "      <td>0.147132</td>\n",
       "      <td>1.000000</td>\n",
       "      <td>0.763958</td>\n",
       "      <td>0.591088</td>\n",
       "      <td>0.384335</td>\n",
       "      <td>1</td>\n",
       "    </tr>\n",
       "    <tr>\n",
       "      <th>326</th>\n",
       "      <td>0.327240</td>\n",
       "      <td>0.149952</td>\n",
       "      <td>0.632318</td>\n",
       "      <td>0.637323</td>\n",
       "      <td>0.001580</td>\n",
       "      <td>0.422939</td>\n",
       "      <td>0.640462</td>\n",
       "      <td>0.706033</td>\n",
       "      <td>0.802081</td>\n",
       "      <td>0.674333</td>\n",
       "      <td>0.102285</td>\n",
       "      <td>0.134943</td>\n",
       "      <td>0.961115</td>\n",
       "      <td>0.987038</td>\n",
       "      <td>0.819918</td>\n",
       "      <td>0.613067</td>\n",
       "      <td>0</td>\n",
       "    </tr>\n",
       "    <tr>\n",
       "      <th>327</th>\n",
       "      <td>0.375777</td>\n",
       "      <td>0.093268</td>\n",
       "      <td>0.627981</td>\n",
       "      <td>0.609392</td>\n",
       "      <td>0.002794</td>\n",
       "      <td>0.367167</td>\n",
       "      <td>0.638447</td>\n",
       "      <td>0.700260</td>\n",
       "      <td>0.798961</td>\n",
       "      <td>0.669151</td>\n",
       "      <td>0.090336</td>\n",
       "      <td>0.122416</td>\n",
       "      <td>0.395550</td>\n",
       "      <td>0.785555</td>\n",
       "      <td>0.779561</td>\n",
       "      <td>0.742524</td>\n",
       "      <td>0</td>\n",
       "    </tr>\n",
       "    <tr>\n",
       "      <th>328</th>\n",
       "      <td>0.412819</td>\n",
       "      <td>0.061551</td>\n",
       "      <td>0.698113</td>\n",
       "      <td>0.616418</td>\n",
       "      <td>0.004865</td>\n",
       "      <td>0.577523</td>\n",
       "      <td>0.659938</td>\n",
       "      <td>0.699462</td>\n",
       "      <td>0.797562</td>\n",
       "      <td>0.683595</td>\n",
       "      <td>0.147896</td>\n",
       "      <td>0.125770</td>\n",
       "      <td>1.000000</td>\n",
       "      <td>0.785555</td>\n",
       "      <td>0.782100</td>\n",
       "      <td>0.808848</td>\n",
       "      <td>1</td>\n",
       "    </tr>\n",
       "  </tbody>\n",
       "</table>\n",
       "<p>329 rows × 17 columns</p>\n",
       "</div>"
      ],
      "text/plain": [
       "     Volume_total  sentiment_index_total      High       Low       Vol  \\\n",
       "0        0.545000               0.195338  0.959518  0.980993  0.002937   \n",
       "1        0.585140               0.239189  0.971860  0.988536  0.003102   \n",
       "2        0.537338               0.261605  0.965686  0.960906  0.002922   \n",
       "3        0.498165               0.284602  0.943563  0.953181  0.002353   \n",
       "4        0.521225               0.240861  0.956106  0.959773  0.002201   \n",
       "..            ...                    ...       ...       ...       ...   \n",
       "324      0.604923              -0.000763  0.619732  0.561479  0.008440   \n",
       "325      0.362027               0.097440  0.625358  0.626757  0.003665   \n",
       "326      0.327240               0.149952  0.632318  0.637323  0.001580   \n",
       "327      0.375777               0.093268  0.627981  0.609392  0.002794   \n",
       "328      0.412819               0.061551  0.698113  0.616418  0.004865   \n",
       "\n",
       "          RSI     SMA_5    SMA_20    SMA_60       EMA      MACD    signal  \\\n",
       "0    0.597561  0.991824  1.001365  1.009106  1.007050  0.436198  0.466803   \n",
       "1    0.604627  1.003399  0.999281  1.018160  1.013699  0.445752  0.470496   \n",
       "2    0.527532  1.001395  0.997352  1.025831  1.012624  0.427793  0.469277   \n",
       "3    0.562177  0.999335  0.999615  1.033139  1.015618  0.424889  0.467627   \n",
       "4    0.585381  1.000163  1.001591  1.040965  1.020763  0.429689  0.467423   \n",
       "..        ...       ...       ...       ...       ...       ...       ...   \n",
       "324  0.385186  0.629822  0.711181  0.809156  0.674852  0.091733  0.163752   \n",
       "325  0.426774  0.632902  0.709112  0.805078  0.674742  0.097517  0.147132   \n",
       "326  0.422939  0.640462  0.706033  0.802081  0.674333  0.102285  0.134943   \n",
       "327  0.367167  0.638447  0.700260  0.798961  0.669151  0.090336  0.122416   \n",
       "328  0.577523  0.659938  0.699462  0.797562  0.683595  0.147896  0.125770   \n",
       "\n",
       "     Stochastic RSI_fastk  Stochastic RSI_fastd  \\\n",
       "0                0.972114              0.989451   \n",
       "1                1.000000              0.989451   \n",
       "2                0.000000              0.657371   \n",
       "3                0.449382              0.483127   \n",
       "4                0.750362              0.399915   \n",
       "..                    ...                   ...   \n",
       "324              1.000000              0.632657   \n",
       "325              1.000000              0.763958   \n",
       "326              0.961115              0.987038   \n",
       "327              0.395550              0.785555   \n",
       "328              1.000000              0.785555   \n",
       "\n",
       "     Stochastic Oscillator Index_slowk  Stochastic Oscillator Index_slowd  \\\n",
       "0                             0.858229                           0.901095   \n",
       "1                             0.803497                           0.871422   \n",
       "2                             0.519993                           0.739452   \n",
       "3                             0.404208                           0.581804   \n",
       "4                             0.371906                           0.431945   \n",
       "..                                 ...                                ...   \n",
       "324                           0.406729                           0.215167   \n",
       "325                           0.591088                           0.384335   \n",
       "326                           0.819918                           0.613067   \n",
       "327                           0.779561                           0.742524   \n",
       "328                           0.782100                           0.808848   \n",
       "\n",
       "     Fluctuations  \n",
       "0               0  \n",
       "1               1  \n",
       "2               0  \n",
       "3               1  \n",
       "4               1  \n",
       "..            ...  \n",
       "324             1  \n",
       "325             1  \n",
       "326             0  \n",
       "327             0  \n",
       "328             1  \n",
       "\n",
       "[329 rows x 17 columns]"
      ]
     },
     "execution_count": 32,
     "metadata": {},
     "output_type": "execute_result"
    }
   ],
   "source": [
    "#scale까지 완료한 test data load\n",
    "test_data_scale = pd.read_csv('C:/Users/DSSAL/Downloads/Fintech_Bitcoin/220401_meeting_ver/DATA_Bitcoin_ML/testdata_220819.csv',index_col = 0)\n",
    "test_data_scale"
   ]
  },
  {
   "cell_type": "code",
   "execution_count": 33,
   "metadata": {},
   "outputs": [],
   "source": [
    "features = test_data_scale[['Volume_total','sentiment_index_total','High','Low','Vol',\n",
    "                        'RSI','SMA_5','SMA_20','SMA_60','EMA','MACD','signal','Stochastic RSI_fastk',\n",
    "                        'Stochastic RSI_fastd','Stochastic Oscillator Index_slowk','Stochastic Oscillator Index_slowd',]]\n",
    "label= list(test_data_scale['Fluctuations'])"
   ]
  },
  {
   "cell_type": "code",
   "execution_count": 34,
   "metadata": {},
   "outputs": [],
   "source": [
    "x_test = features\n",
    "y_test = np.array(label)"
   ]
  },
  {
   "cell_type": "markdown",
   "metadata": {},
   "source": [
    "# SVM modeling"
   ]
  },
  {
   "cell_type": "code",
   "execution_count": 35,
   "metadata": {
    "colab": {
     "base_uri": "https://localhost:8080/",
     "height": 382
    },
    "executionInfo": {
     "elapsed": 566273,
     "status": "error",
     "timestamp": 1641359081506,
     "user": {
      "displayName": "성균관대학교이해인",
      "photoUrl": "https://lh3.googleusercontent.com/a/default-user=s64",
      "userId": "18353716469576030948"
     },
     "user_tz": -540
    },
    "id": "kfAqs7rkPXAQ",
    "outputId": "d4b295a4-2319-4da6-f491-4b585afd18df"
   },
   "outputs": [
    {
     "name": "stderr",
     "output_type": "stream",
     "text": [
      "C:\\Users\\DSSAL\\Anaconda3\\lib\\site-packages\\sklearn\\ensemble\\_bagging.py:719: DataConversionWarning: A column-vector y was passed when a 1d array was expected. Please change the shape of y to (n_samples, ), for example using ravel().\n",
      "  y = column_or_1d(y, warn=True)\n",
      "[Parallel(n_jobs=2)]: Using backend LokyBackend with 2 concurrent workers.\n",
      "[Parallel(n_jobs=2)]: Done   2 out of   2 | elapsed:    0.8s remaining:    0.0s\n",
      "[Parallel(n_jobs=2)]: Done   2 out of   2 | elapsed:    0.8s finished\n"
     ]
    }
   ],
   "source": [
    "from sklearn.model_selection import GridSearchCV\n",
    "from sklearn.svm import LinearSVC\n",
    "\n",
    "#model train \n",
    "# param_grid = {\n",
    "#     'gamma': [1] #0.1, 10, 100\n",
    "# }\n",
    "\n",
    "svm_origin = LinearSVC() #gridsearch 사용할 때 svm_origin으로 변수명 변경\n",
    "n_estimators = 10\n",
    "n_jobs = 2\n",
    "\n",
    "svm = BaggingClassifier(base_estimator=svm_origin,\n",
    "                          n_estimators=n_estimators,\n",
    "                          max_samples=1./n_estimators,\n",
    "                          n_jobs=n_jobs, verbose=3).fit(x_train, y_train)\n",
    "\n",
    "# svm = GridSearchCV(svm_origin, param_grid = param_grid, cv = 5, n_jobs = -1, verbose = 3).fit(x_train, y_train)"
   ]
  },
  {
   "cell_type": "code",
   "execution_count": 36,
   "metadata": {},
   "outputs": [
    {
     "data": {
      "text/plain": [
       "BaggingClassifier(base_estimator=LinearSVC(), max_samples=0.1, n_jobs=2,\n",
       "                  verbose=3)"
      ]
     },
     "execution_count": 36,
     "metadata": {},
     "output_type": "execute_result"
    }
   ],
   "source": [
    "svm.set_params()"
   ]
  },
  {
   "cell_type": "code",
   "execution_count": 37,
   "metadata": {},
   "outputs": [
    {
     "name": "stderr",
     "output_type": "stream",
     "text": [
      "[Parallel(n_jobs=2)]: Using backend LokyBackend with 2 concurrent workers.\n",
      "[Parallel(n_jobs=2)]: Done   2 out of   2 | elapsed:    0.0s remaining:    0.0s\n",
      "[Parallel(n_jobs=2)]: Done   2 out of   2 | elapsed:    0.0s finished\n"
     ]
    }
   ],
   "source": [
    "svm_pred = svm.predict(x_test)"
   ]
  },
  {
   "cell_type": "code",
   "execution_count": 38,
   "metadata": {
    "colab": {
     "base_uri": "https://localhost:8080/"
    },
    "executionInfo": {
     "elapsed": 8,
     "status": "ok",
     "timestamp": 1637215608278,
     "user": {
      "displayName": "성균관대학교이해인",
      "photoUrl": "https://lh3.googleusercontent.com/a/default-user=s64",
      "userId": "18353716469576030948"
     },
     "user_tz": -540
    },
    "id": "i8hQDCV01IRi",
    "outputId": "f6abb8c7-9bbd-43a2-d731-a49a0c9b19c5"
   },
   "outputs": [
    {
     "name": "stdout",
     "output_type": "stream",
     "text": [
      "Test Accuracy: 0.784195\n"
     ]
    }
   ],
   "source": [
    "print(\"Test Accuracy: %f\" % accuracy_score(y_test, svm_pred))"
   ]
  },
  {
   "cell_type": "markdown",
   "metadata": {},
   "source": [
    "# Results Summary"
   ]
  },
  {
   "cell_type": "code",
   "execution_count": 44,
   "metadata": {
    "colab": {
     "base_uri": "https://localhost:8080/",
     "height": 343
    },
    "executionInfo": {
     "elapsed": 601,
     "status": "ok",
     "timestamp": 1637215608873,
     "user": {
      "displayName": "성균관대학교이해인",
      "photoUrl": "https://lh3.googleusercontent.com/a/default-user=s64",
      "userId": "18353716469576030948"
     },
     "user_tz": -540
    },
    "id": "Jn9SowAM1IYP",
    "outputId": "83722173-423d-4d57-81e5-e6eeae108ef8"
   },
   "outputs": [
    {
     "data": {
      "text/plain": [
       "Text(0.5, 257.44, 'Predicted label')"
      ]
     },
     "execution_count": 44,
     "metadata": {},
     "output_type": "execute_result"
    },
    {
     "data": {
      "image/png": "[encoded data removed]",
      "text/plain": [
       "<Figure size 432x288 with 2 Axes>"
      ]
     },
     "metadata": {
      "needs_background": "light"
     },
     "output_type": "display_data"
    }
   ],
   "source": [
    "cnf_matrix = metrics.confusion_matrix(y_test, svm_pred)\n",
    "\n",
    "class_names=[0,1] # name  of classes\n",
    "fig, ax = plt.subplots()\n",
    "tick_marks = np.arange(len(class_names))\n",
    "plt.xticks(tick_marks, class_names)\n",
    "plt.yticks(tick_marks, class_names)\n",
    "# create heatmap\n",
    "sns.heatmap(pd.DataFrame(cnf_matrix), annot=True, cmap=\"YlGnBu\" ,fmt='g')\n",
    "ax.xaxis.set_label_position(\"top\")\n",
    "plt.tight_layout()\n",
    "plt.title('Confusion matrix', y=1.1)\n",
    "plt.ylabel('Actual label')\n",
    "plt.xlabel('Predicted label')"
   ]
  },
  {
   "cell_type": "code",
   "execution_count": 45,
   "metadata": {
    "colab": {
     "base_uri": "https://localhost:8080/"
    },
    "executionInfo": {
     "elapsed": 16,
     "status": "ok",
     "timestamp": 1637215608875,
     "user": {
      "displayName": "성균관대학교이해인",
      "photoUrl": "https://lh3.googleusercontent.com/a/default-user=s64",
      "userId": "18353716469576030948"
     },
     "user_tz": -540
    },
    "id": "fYxl_IQa1bb7",
    "outputId": "b2ffae63-6f0d-408c-8348-18cc39bdb3f7"
   },
   "outputs": [
    {
     "name": "stdout",
     "output_type": "stream",
     "text": [
      "Accuracy: 0.78419452887538\n",
      "Precision: 0.734375\n",
      "Recall: 0.8757763975155279\n",
      "F1score: 0.7988668555240793\n"
     ]
    }
   ],
   "source": [
    "print(\"Accuracy:\",metrics.accuracy_score(y_test, svm_pred))\n",
    "print(\"Precision:\",metrics.precision_score(y_test, svm_pred))\n",
    "print(\"Recall:\",metrics.recall_score(y_test, svm_pred))\n",
    "print(\"F1score:\",metrics.f1_score(y_test, svm_pred))"
   ]
  },
  {
   "cell_type": "code",
   "execution_count": 46,
   "metadata": {},
   "outputs": [],
   "source": [
    "import joblib #수정해야함\n",
    "\n",
    "# 모델 저장\n",
    "joblib.dump(svm, 'C:/Users/DSSAL/Downloads/Fintech_Bitcoin/220401_meeting_ver/Bitcoin_result_revision/svm_bitcoin_sent.pkl')\n",
    "\n",
    "# 모델 불러오기\n",
    "svm_model = joblib.load('C:/Users/DSSAL/Downloads/Fintech_Bitcoin/220401_meeting_ver/Bitcoin_result_revision/svm_bitcoin_sent.pkl')"
   ]
  },
  {
   "cell_type": "code",
   "execution_count": 47,
   "metadata": {
    "colab": {
     "base_uri": "https://localhost:8080/"
    },
    "executionInfo": {
     "elapsed": 23,
     "status": "ok",
     "timestamp": 1637215757037,
     "user": {
      "displayName": "성균관대학교이해인",
      "photoUrl": "https://lh3.googleusercontent.com/a/default-user=s64",
      "userId": "18353716469576030948"
     },
     "user_tz": -540
    },
    "id": "EC8pWmBs60UM",
    "outputId": "eaa41ec0-e469-4caa-89bb-f4dbdb23cab7"
   },
   "outputs": [
    {
     "data": {
      "text/plain": [
       "BaggingClassifier(base_estimator=LinearSVC(), max_samples=0.1, n_jobs=2,\n",
       "                  verbose=3)"
      ]
     },
     "execution_count": 47,
     "metadata": {},
     "output_type": "execute_result"
    }
   ],
   "source": [
    "svm_model"
   ]
  },
  {
   "cell_type": "code",
   "execution_count": 48,
   "metadata": {
    "colab": {
     "base_uri": "https://localhost:8080/"
    },
    "executionInfo": {
     "elapsed": 1632,
     "status": "ok",
     "timestamp": 1637215759033,
     "user": {
      "displayName": "성균관대학교이해인",
      "photoUrl": "https://lh3.googleusercontent.com/a/default-user=s64",
      "userId": "18353716469576030948"
     },
     "user_tz": -540
    },
    "id": "EFIvcC2160WA",
    "outputId": "b75e5d02-f313-469b-8c94-cbc4a255f7d9"
   },
   "outputs": [
    {
     "name": "stderr",
     "output_type": "stream",
     "text": [
      "[Parallel(n_jobs=2)]: Using backend LokyBackend with 2 concurrent workers.\n",
      "[Parallel(n_jobs=2)]: Done   2 out of   2 | elapsed:    0.0s remaining:    0.0s\n",
      "[Parallel(n_jobs=2)]: Done   2 out of   2 | elapsed:    0.0s finished\n"
     ]
    },
    {
     "data": {
      "text/plain": [
       "0.78419452887538"
      ]
     },
     "execution_count": 48,
     "metadata": {},
     "output_type": "execute_result"
    }
   ],
   "source": [
    "from sklearn.metrics import accuracy_score, confusion_matrix, classification_report\n",
    "\n",
    "y_pred = svm_model.predict(x_test)\n",
    "predictions = [value for value in y_pred]\n",
    "\n",
    "accuracy_score(y_test, predictions)"
   ]
  },
  {
   "cell_type": "code",
   "execution_count": 49,
   "metadata": {
    "colab": {
     "base_uri": "https://localhost:8080/",
     "height": 204
    },
    "executionInfo": {
     "elapsed": 17,
     "status": "ok",
     "timestamp": 1637215759034,
     "user": {
      "displayName": "성균관대학교이해인",
      "photoUrl": "https://lh3.googleusercontent.com/a/default-user=s64",
      "userId": "18353716469576030948"
     },
     "user_tz": -540
    },
    "id": "TyOpTcFI1bdz",
    "outputId": "60a8d2a1-6e53-4817-bb89-288a07453b93"
   },
   "outputs": [
    {
     "data": {
      "text/html": [
       "<div>\n",
       "<style scoped>\n",
       "    .dataframe tbody tr th:only-of-type {\n",
       "        vertical-align: middle;\n",
       "    }\n",
       "\n",
       "    .dataframe tbody tr th {\n",
       "        vertical-align: top;\n",
       "    }\n",
       "\n",
       "    .dataframe thead th {\n",
       "        text-align: right;\n",
       "    }\n",
       "</style>\n",
       "<table border=\"1\" class=\"dataframe\">\n",
       "  <thead>\n",
       "    <tr style=\"text-align: right;\">\n",
       "      <th></th>\n",
       "      <th>precision</th>\n",
       "      <th>recall</th>\n",
       "      <th>f1-score</th>\n",
       "      <th>support</th>\n",
       "    </tr>\n",
       "  </thead>\n",
       "  <tbody>\n",
       "    <tr>\n",
       "      <th>class low</th>\n",
       "      <td>0.854015</td>\n",
       "      <td>0.696429</td>\n",
       "      <td>0.767213</td>\n",
       "      <td>168.000000</td>\n",
       "    </tr>\n",
       "    <tr>\n",
       "      <th>class high</th>\n",
       "      <td>0.734375</td>\n",
       "      <td>0.875776</td>\n",
       "      <td>0.798867</td>\n",
       "      <td>161.000000</td>\n",
       "    </tr>\n",
       "    <tr>\n",
       "      <th>accuracy</th>\n",
       "      <td>0.784195</td>\n",
       "      <td>0.784195</td>\n",
       "      <td>0.784195</td>\n",
       "      <td>0.784195</td>\n",
       "    </tr>\n",
       "    <tr>\n",
       "      <th>macro avg</th>\n",
       "      <td>0.794195</td>\n",
       "      <td>0.786102</td>\n",
       "      <td>0.783040</td>\n",
       "      <td>329.000000</td>\n",
       "    </tr>\n",
       "    <tr>\n",
       "      <th>weighted avg</th>\n",
       "      <td>0.795468</td>\n",
       "      <td>0.784195</td>\n",
       "      <td>0.782703</td>\n",
       "      <td>329.000000</td>\n",
       "    </tr>\n",
       "  </tbody>\n",
       "</table>\n",
       "</div>"
      ],
      "text/plain": [
       "              precision    recall  f1-score     support\n",
       "class low      0.854015  0.696429  0.767213  168.000000\n",
       "class high     0.734375  0.875776  0.798867  161.000000\n",
       "accuracy       0.784195  0.784195  0.784195    0.784195\n",
       "macro avg      0.794195  0.786102  0.783040  329.000000\n",
       "weighted avg   0.795468  0.784195  0.782703  329.000000"
      ]
     },
     "execution_count": 49,
     "metadata": {},
     "output_type": "execute_result"
    }
   ],
   "source": [
    "from sklearn.metrics import classification_report\n",
    "\n",
    "report = classification_report(y_test, y_pred, target_names=['class low', 'class high'], output_dict=True)\n",
    "df = pd.DataFrame(report).transpose()\n",
    "\n",
    "df"
   ]
  },
  {
   "cell_type": "markdown",
   "metadata": {},
   "source": [
    "# AUCROC curve"
   ]
  },
  {
   "cell_type": "code",
   "execution_count": 50,
   "metadata": {},
   "outputs": [
    {
     "name": "stderr",
     "output_type": "stream",
     "text": [
      "[Parallel(n_jobs=2)]: Using backend LokyBackend with 2 concurrent workers.\n",
      "[Parallel(n_jobs=2)]: Done   2 out of   2 | elapsed:    0.0s remaining:    0.0s\n",
      "[Parallel(n_jobs=2)]: Done   2 out of   2 | elapsed:    0.0s finished\n"
     ]
    },
    {
     "data": {
      "text/plain": [
       "array([0.9, 0.9, 0. , 0.5, 1. , 0.2, 0.1, 1. , 1. , 0.6, 0.8, 0.1, 0.2,\n",
       "       0.5, 0.5, 0.5, 0.4, 0.5, 0.5, 0.5, 0.5, 1. , 1. , 0.8, 0.7, 0.8,\n",
       "       0.8, 0.6, 0.8, 0.1, 1. , 0.9, 0.9, 0.9, 0.5, 0.1, 0.6, 0.5, 0.5,\n",
       "       0.5, 0.5, 0.5, 0.5, 0.5, 0.6, 1. , 0.7, 0.6, 0.6, 0.9, 0.8, 0.8,\n",
       "       0.8, 0.1, 0.4, 0.9, 1. , 0.8, 0.8, 0.8, 0.3, 0.1, 0.6, 0.5, 0.5,\n",
       "       1. , 1. , 0.8, 0.5, 1. , 1. , 0.8, 0.5, 0.1, 0.4, 0.5, 0.5, 0.5,\n",
       "       0.7, 1. , 1. , 0.1, 0.4, 1. , 1. , 0.8, 0.7, 0. , 0.4, 1. , 1. ,\n",
       "       0. , 0.5, 0.5, 0.2, 1. , 0.9, 0.9, 0.1, 0.1, 0.5, 0.5, 0.5, 0.6,\n",
       "       0.9, 0.3, 0.3, 1. , 1. , 0.9, 0.8, 0.9, 0.9, 0.9, 0.9, 0.9, 0.9,\n",
       "       0.1, 0. , 0.4, 0.6, 0.8, 1. , 0.9, 0.9, 0.5, 0.9, 0.2, 0.2, 0.2,\n",
       "       1. , 0.7, 0.5, 0.2, 0.2, 0.6, 0.8, 1. , 0.8, 0.8, 0.7, 0. , 0.6,\n",
       "       0.3, 0.7, 1. , 0.8, 0.1, 0.3, 1. , 1. , 0.9, 0.8, 0.9, 0.9, 0. ,\n",
       "       0.1, 0.5, 0.5, 0.7, 1. , 0.3, 1. , 1. , 0.7, 0.6, 1. , 0. , 0.1,\n",
       "       0.5, 1. , 1. , 0.7, 0.6, 0.3, 0.1, 0.4, 0.8, 1. , 1. , 0.8, 0.8,\n",
       "       1. , 1. , 0.9, 0.5, 0.6, 0.6, 0.3, 1. , 0. , 0.6, 0.8, 1. , 0.7,\n",
       "       0.5, 1. , 1. , 1. , 0. , 0.1, 0.4, 0.4, 1. , 0.1, 0.2, 0.7, 1. ,\n",
       "       1. , 0.5, 0. , 1. , 1. , 0. , 0.2, 0.7, 1. , 1. , 0.7, 0.2, 0.4,\n",
       "       0.6, 1. , 0.1, 0.1, 0.5, 0.4, 0.6, 1. , 0.7, 0.1, 0.7, 0.6, 1. ,\n",
       "       0.1, 0.5, 1. , 1. , 0.7, 0.8, 0.1, 0.3, 0.5, 0.5, 0.8, 0.9, 1. ,\n",
       "       0.1, 0.3, 1. , 1. , 0.2, 0.8, 1. , 0.5, 0.3, 0.6, 0.7, 1. , 1. ,\n",
       "       0.8, 0.8, 0.8, 0.6, 0.9, 0.6, 0.1, 0.3, 0.7, 0.5, 1. , 0.9, 0.2,\n",
       "       0.2, 0.3, 0.5, 0.5, 0.5, 0.8, 0.7, 1. , 1. , 0.5, 0.8, 0.8, 0.6,\n",
       "       0.1, 0.6, 0.4, 0.4, 0.5, 0.5, 0.8, 1. , 1. , 0.8, 0.8, 0.8, 0.8,\n",
       "       0.7, 0.8, 0.8, 0. , 0.4, 1. , 1. , 1. , 1. , 1. , 1. , 0.1, 0.1,\n",
       "       0.4, 0.5, 1. , 1. , 0.7, 0. , 0.1, 0.5, 0.4, 0.3, 1. , 0.5, 1. ,\n",
       "       1. , 0.8, 0.1, 1. ])"
      ]
     },
     "execution_count": 50,
     "metadata": {},
     "output_type": "execute_result"
    }
   ],
   "source": [
    "from sklearn.metrics import roc_curve\n",
    "svm = svm_model\n",
    "# 레이블 값이 1일 때 예측 확률 추출\n",
    "svm_pred_proba_class_1 = svm.predict_proba(x_test)[:,1]\n",
    "svm_pred_proba_class_1"
   ]
  },
  {
   "cell_type": "code",
   "execution_count": 51,
   "metadata": {},
   "outputs": [
    {
     "data": {
      "text/html": [
       "<div>\n",
       "<style scoped>\n",
       "    .dataframe tbody tr th:only-of-type {\n",
       "        vertical-align: middle;\n",
       "    }\n",
       "\n",
       "    .dataframe tbody tr th {\n",
       "        vertical-align: top;\n",
       "    }\n",
       "\n",
       "    .dataframe thead th {\n",
       "        text-align: right;\n",
       "    }\n",
       "</style>\n",
       "<table border=\"1\" class=\"dataframe\">\n",
       "  <thead>\n",
       "    <tr style=\"text-align: right;\">\n",
       "      <th></th>\n",
       "      <th>index</th>\n",
       "      <th>FPR</th>\n",
       "      <th>TPR</th>\n",
       "    </tr>\n",
       "  </thead>\n",
       "  <tbody>\n",
       "    <tr>\n",
       "      <th>0</th>\n",
       "      <td>1</td>\n",
       "      <td>0.041667</td>\n",
       "      <td>0.434783</td>\n",
       "    </tr>\n",
       "    <tr>\n",
       "      <th>1</th>\n",
       "      <td>2</td>\n",
       "      <td>0.071429</td>\n",
       "      <td>0.571429</td>\n",
       "    </tr>\n",
       "    <tr>\n",
       "      <th>2</th>\n",
       "      <td>3</td>\n",
       "      <td>0.154762</td>\n",
       "      <td>0.745342</td>\n",
       "    </tr>\n",
       "    <tr>\n",
       "      <th>3</th>\n",
       "      <td>4</td>\n",
       "      <td>0.238095</td>\n",
       "      <td>0.795031</td>\n",
       "    </tr>\n",
       "    <tr>\n",
       "      <th>4</th>\n",
       "      <td>5</td>\n",
       "      <td>0.303571</td>\n",
       "      <td>0.875776</td>\n",
       "    </tr>\n",
       "    <tr>\n",
       "      <th>5</th>\n",
       "      <td>6</td>\n",
       "      <td>0.523810</td>\n",
       "      <td>0.962733</td>\n",
       "    </tr>\n",
       "    <tr>\n",
       "      <th>6</th>\n",
       "      <td>7</td>\n",
       "      <td>0.595238</td>\n",
       "      <td>0.987578</td>\n",
       "    </tr>\n",
       "    <tr>\n",
       "      <th>7</th>\n",
       "      <td>8</td>\n",
       "      <td>0.666667</td>\n",
       "      <td>1.000000</td>\n",
       "    </tr>\n",
       "    <tr>\n",
       "      <th>8</th>\n",
       "      <td>9</td>\n",
       "      <td>0.750000</td>\n",
       "      <td>1.000000</td>\n",
       "    </tr>\n",
       "    <tr>\n",
       "      <th>9</th>\n",
       "      <td>10</td>\n",
       "      <td>0.922619</td>\n",
       "      <td>1.000000</td>\n",
       "    </tr>\n",
       "    <tr>\n",
       "      <th>10</th>\n",
       "      <td>11</td>\n",
       "      <td>1.000000</td>\n",
       "      <td>1.000000</td>\n",
       "    </tr>\n",
       "  </tbody>\n",
       "</table>\n",
       "</div>"
      ],
      "text/plain": [
       "    index       FPR       TPR\n",
       "0       1  0.041667  0.434783\n",
       "1       2  0.071429  0.571429\n",
       "2       3  0.154762  0.745342\n",
       "3       4  0.238095  0.795031\n",
       "4       5  0.303571  0.875776\n",
       "5       6  0.523810  0.962733\n",
       "6       7  0.595238  0.987578\n",
       "7       8  0.666667  1.000000\n",
       "8       9  0.750000  1.000000\n",
       "9      10  0.922619  1.000000\n",
       "10     11  1.000000  1.000000"
      ]
     },
     "execution_count": 51,
     "metadata": {},
     "output_type": "execute_result"
    }
   ],
   "source": [
    "fprs, tprs, thresholds = roc_curve(y_test, svm_pred_proba_class_1)\n",
    "\n",
    "# 반환된 임곗값 배열에서 샘플로 데이터 추출\n",
    "# thresholds[0]은 max(예측확률)+1 값이 임의로 지정됨.\n",
    "\n",
    "thr_index = np.arange(1, thresholds.shape[0])\n",
    "\n",
    "pd.DataFrame({'index':thr_index,\n",
    "             'FPR':fprs[thr_index],\n",
    "             'TPR':tprs[thr_index]})"
   ]
  },
  {
   "cell_type": "code",
   "execution_count": 52,
   "metadata": {},
   "outputs": [],
   "source": [
    "import matplotlib.pyplot as plt\n",
    "\n",
    "def roc_curve_plot(y_test, pred_proba_c1):\n",
    "    # 임계값에 따른 FPR, TPR 값\n",
    "    fprs, tprs, thresholds = roc_curve(y_test, pred_proba_c1)\n",
    "    # ROC 곡선을 시각화\n",
    "    plt.plot(fprs, tprs, label='ROC')\n",
    "    # 가운데 대각선 직선\n",
    "    plt.plot([0,1],[0,1], 'k--',label='Random')\n",
    "    \n",
    "    # FPR X 축의 scla 0.1 단위 지정\n",
    "    start, end = plt.xlim()\n",
    "    plt.xticks(np.round(np.arange(start, end, 0.1), 2))\n",
    "    plt.xlim(0, 1)\n",
    "    plt.ylim(0, 1)\n",
    "    plt.xlabel('FPR( 1 - Snesitivity )')\n",
    "    plt.ylabel('TPR( Recall )')\n",
    "    plt.legend()"
   ]
  },
  {
   "cell_type": "code",
   "execution_count": 53,
   "metadata": {},
   "outputs": [
    {
     "data": {
      "image/png": "[encoded data removed]",
      "text/plain": [
       "<Figure size 432x288 with 1 Axes>"
      ]
     },
     "metadata": {
      "needs_background": "light"
     },
     "output_type": "display_data"
    }
   ],
   "source": [
    "from sklearn.metrics import roc_curve\n",
    "\n",
    "roc_curve_plot(y_test, svm_pred_proba_class_1)"
   ]
  },
  {
   "cell_type": "code",
   "execution_count": 54,
   "metadata": {},
   "outputs": [
    {
     "name": "stdout",
     "output_type": "stream",
     "text": [
      "ROC AUC Score:  0.8742051168293404\n"
     ]
    },
    {
     "name": "stderr",
     "output_type": "stream",
     "text": [
      "[Parallel(n_jobs=2)]: Using backend LokyBackend with 2 concurrent workers.\n",
      "[Parallel(n_jobs=2)]: Done   2 out of   2 | elapsed:    0.0s remaining:    0.0s\n",
      "[Parallel(n_jobs=2)]: Done   2 out of   2 | elapsed:    0.0s finished\n"
     ]
    }
   ],
   "source": [
    "from sklearn.metrics import roc_auc_score\n",
    "\n",
    "pred_proba = svm.predict_proba(x_test)[:, 1]\n",
    "roc_score = roc_auc_score(y_test, pred_proba)\n",
    "print('ROC AUC Score: ', roc_score)"
   ]
  },
  {
   "cell_type": "code",
   "execution_count": null,
   "metadata": {},
   "outputs": [],
   "source": []
  },
  {
   "cell_type": "code",
   "execution_count": null,
   "metadata": {},
   "outputs": [],
   "source": []
  }
 ],
 "metadata": {
  "accelerator": "GPU",
  "colab": {
   "collapsed_sections": [],
   "name": "Random Forest with bow.ipynb",
   "provenance": []
  },
  "kernelspec": {
   "display_name": "Python 3",
   "language": "python",
   "name": "python3"
  },
  "language_info": {
   "codemirror_mode": {
    "name": "ipython",
    "version": 3
   },
   "file_extension": ".py",
   "mimetype": "text/x-python",
   "name": "python",
   "nbconvert_exporter": "python",
   "pygments_lexer": "ipython3",
   "version": "3.7.6"
  }
 },
 "nbformat": 4,
 "nbformat_minor": 1
}
